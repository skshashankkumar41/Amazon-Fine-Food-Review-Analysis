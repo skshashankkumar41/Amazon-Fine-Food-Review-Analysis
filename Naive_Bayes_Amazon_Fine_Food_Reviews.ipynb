{
 "cells": [
  {
   "cell_type": "code",
   "execution_count": 1,
   "metadata": {},
   "outputs": [],
   "source": [
    "import pandas as pd\n",
    "import numpy as np\n",
    "import matplotlib.pyplot as plt\n",
    "import seaborn as sns\n",
    "import sqlite3\n",
    "%matplotlib inline"
   ]
  },
  {
   "cell_type": "code",
   "execution_count": 2,
   "metadata": {},
   "outputs": [],
   "source": [
    "conn=sqlite3.connect('database.sqlite')\n",
    "filtered_data=pd.read_sql_query('''SELECT * FROM REVIEWS WHERE SCORE!=3''',conn)"
   ]
  },
  {
   "cell_type": "code",
   "execution_count": 3,
   "metadata": {},
   "outputs": [],
   "source": [
    "filtered_data.Score=filtered_data.Score.apply(lambda x:'positive' if x>3 else 'negative')"
   ]
  },
  {
   "cell_type": "code",
   "execution_count": 4,
   "metadata": {},
   "outputs": [],
   "source": [
    "sorted_values=filtered_data.sort_values('ProductId',axis=0,ascending=True)\n",
    "final=sorted_values.drop_duplicates(subset={\"UserId\",\"ProfileName\",\"Time\",\"Text\"}, keep='first', inplace=False)\n",
    "final=final[final.HelpfulnessNumerator<=final.HelpfulnessDenominator]"
   ]
  },
  {
   "cell_type": "code",
   "execution_count": 5,
   "metadata": {},
   "outputs": [
    {
     "data": {
      "text/html": [
       "<div>\n",
       "<style scoped>\n",
       "    .dataframe tbody tr th:only-of-type {\n",
       "        vertical-align: middle;\n",
       "    }\n",
       "\n",
       "    .dataframe tbody tr th {\n",
       "        vertical-align: top;\n",
       "    }\n",
       "\n",
       "    .dataframe thead th {\n",
       "        text-align: right;\n",
       "    }\n",
       "</style>\n",
       "<table border=\"1\" class=\"dataframe\">\n",
       "  <thead>\n",
       "    <tr style=\"text-align: right;\">\n",
       "      <th></th>\n",
       "      <th>Id</th>\n",
       "      <th>ProductId</th>\n",
       "      <th>UserId</th>\n",
       "      <th>ProfileName</th>\n",
       "      <th>HelpfulnessNumerator</th>\n",
       "      <th>HelpfulnessDenominator</th>\n",
       "      <th>Score</th>\n",
       "      <th>Time</th>\n",
       "      <th>Summary</th>\n",
       "      <th>Text</th>\n",
       "    </tr>\n",
       "  </thead>\n",
       "  <tbody>\n",
       "    <tr>\n",
       "      <th>138706</th>\n",
       "      <td>150524</td>\n",
       "      <td>0006641040</td>\n",
       "      <td>ACITT7DI6IDDL</td>\n",
       "      <td>shari zychinski</td>\n",
       "      <td>0</td>\n",
       "      <td>0</td>\n",
       "      <td>positive</td>\n",
       "      <td>1970-01-01 00:00:00.939340800</td>\n",
       "      <td>EVERY book is educational</td>\n",
       "      <td>this witty little book makes my son laugh at l...</td>\n",
       "    </tr>\n",
       "    <tr>\n",
       "      <th>138683</th>\n",
       "      <td>150501</td>\n",
       "      <td>0006641040</td>\n",
       "      <td>AJ46FKXOVC7NR</td>\n",
       "      <td>Nicholas A Mesiano</td>\n",
       "      <td>2</td>\n",
       "      <td>2</td>\n",
       "      <td>positive</td>\n",
       "      <td>1970-01-01 00:00:00.940809600</td>\n",
       "      <td>This whole series is great way to spend time w...</td>\n",
       "      <td>I can remember seeing the show when it aired o...</td>\n",
       "    </tr>\n",
       "    <tr>\n",
       "      <th>417839</th>\n",
       "      <td>451856</td>\n",
       "      <td>B00004CXX9</td>\n",
       "      <td>AIUWLEQ1ADEG5</td>\n",
       "      <td>Elizabeth Medina</td>\n",
       "      <td>0</td>\n",
       "      <td>0</td>\n",
       "      <td>positive</td>\n",
       "      <td>1970-01-01 00:00:00.944092800</td>\n",
       "      <td>Entertainingl Funny!</td>\n",
       "      <td>Beetlejuice is a well written movie ..... ever...</td>\n",
       "    </tr>\n",
       "    <tr>\n",
       "      <th>346055</th>\n",
       "      <td>374359</td>\n",
       "      <td>B00004CI84</td>\n",
       "      <td>A344SMIA5JECGM</td>\n",
       "      <td>Vincent P. Ross</td>\n",
       "      <td>1</td>\n",
       "      <td>2</td>\n",
       "      <td>positive</td>\n",
       "      <td>1970-01-01 00:00:00.944438400</td>\n",
       "      <td>A modern day fairy tale</td>\n",
       "      <td>A twist of rumplestiskin captured on film, sta...</td>\n",
       "    </tr>\n",
       "    <tr>\n",
       "      <th>417838</th>\n",
       "      <td>451855</td>\n",
       "      <td>B00004CXX9</td>\n",
       "      <td>AJH6LUC1UT1ON</td>\n",
       "      <td>The Phantom of the Opera</td>\n",
       "      <td>0</td>\n",
       "      <td>0</td>\n",
       "      <td>positive</td>\n",
       "      <td>1970-01-01 00:00:00.946857600</td>\n",
       "      <td>FANTASTIC!</td>\n",
       "      <td>Beetlejuice is an excellent and funny movie. K...</td>\n",
       "    </tr>\n",
       "  </tbody>\n",
       "</table>\n",
       "</div>"
      ],
      "text/plain": [
       "            Id   ProductId          UserId               ProfileName  \\\n",
       "138706  150524  0006641040   ACITT7DI6IDDL           shari zychinski   \n",
       "138683  150501  0006641040   AJ46FKXOVC7NR        Nicholas A Mesiano   \n",
       "417839  451856  B00004CXX9   AIUWLEQ1ADEG5          Elizabeth Medina   \n",
       "346055  374359  B00004CI84  A344SMIA5JECGM           Vincent P. Ross   \n",
       "417838  451855  B00004CXX9   AJH6LUC1UT1ON  The Phantom of the Opera   \n",
       "\n",
       "        HelpfulnessNumerator  HelpfulnessDenominator     Score  \\\n",
       "138706                     0                       0  positive   \n",
       "138683                     2                       2  positive   \n",
       "417839                     0                       0  positive   \n",
       "346055                     1                       2  positive   \n",
       "417838                     0                       0  positive   \n",
       "\n",
       "                                Time  \\\n",
       "138706 1970-01-01 00:00:00.939340800   \n",
       "138683 1970-01-01 00:00:00.940809600   \n",
       "417839 1970-01-01 00:00:00.944092800   \n",
       "346055 1970-01-01 00:00:00.944438400   \n",
       "417838 1970-01-01 00:00:00.946857600   \n",
       "\n",
       "                                                  Summary  \\\n",
       "138706                          EVERY book is educational   \n",
       "138683  This whole series is great way to spend time w...   \n",
       "417839                               Entertainingl Funny!   \n",
       "346055                            A modern day fairy tale   \n",
       "417838                                         FANTASTIC!   \n",
       "\n",
       "                                                     Text  \n",
       "138706  this witty little book makes my son laugh at l...  \n",
       "138683  I can remember seeing the show when it aired o...  \n",
       "417839  Beetlejuice is a well written movie ..... ever...  \n",
       "346055  A twist of rumplestiskin captured on film, sta...  \n",
       "417838  Beetlejuice is an excellent and funny movie. K...  "
      ]
     },
     "execution_count": 5,
     "metadata": {},
     "output_type": "execute_result"
    }
   ],
   "source": [
    "final['Time']=pd.to_datetime(final['Time'])\n",
    "final=final.sort_values(by='Time',ascending=True)\n",
    "final.head()"
   ]
  },
  {
   "cell_type": "code",
   "execution_count": 6,
   "metadata": {},
   "outputs": [],
   "source": [
    "final=final.iloc[:100000,:]"
   ]
  },
  {
   "cell_type": "code",
   "execution_count": 7,
   "metadata": {},
   "outputs": [],
   "source": [
    "final.Score=final.Score.apply(lambda x:1 if x=='positive' else 0)"
   ]
  },
  {
   "cell_type": "code",
   "execution_count": 8,
   "metadata": {},
   "outputs": [],
   "source": [
    "final['Length_Review']=final.Text.apply(len)"
   ]
  },
  {
   "cell_type": "code",
   "execution_count": 9,
   "metadata": {},
   "outputs": [
    {
     "data": {
      "text/html": [
       "<div>\n",
       "<style scoped>\n",
       "    .dataframe tbody tr th:only-of-type {\n",
       "        vertical-align: middle;\n",
       "    }\n",
       "\n",
       "    .dataframe tbody tr th {\n",
       "        vertical-align: top;\n",
       "    }\n",
       "\n",
       "    .dataframe thead th {\n",
       "        text-align: right;\n",
       "    }\n",
       "</style>\n",
       "<table border=\"1\" class=\"dataframe\">\n",
       "  <thead>\n",
       "    <tr style=\"text-align: right;\">\n",
       "      <th></th>\n",
       "      <th>Id</th>\n",
       "      <th>ProductId</th>\n",
       "      <th>UserId</th>\n",
       "      <th>ProfileName</th>\n",
       "      <th>HelpfulnessNumerator</th>\n",
       "      <th>HelpfulnessDenominator</th>\n",
       "      <th>Score</th>\n",
       "      <th>Time</th>\n",
       "      <th>Summary</th>\n",
       "      <th>Text</th>\n",
       "      <th>Length_Review</th>\n",
       "    </tr>\n",
       "  </thead>\n",
       "  <tbody>\n",
       "    <tr>\n",
       "      <th>138706</th>\n",
       "      <td>150524</td>\n",
       "      <td>0006641040</td>\n",
       "      <td>ACITT7DI6IDDL</td>\n",
       "      <td>shari zychinski</td>\n",
       "      <td>0</td>\n",
       "      <td>0</td>\n",
       "      <td>1</td>\n",
       "      <td>1970-01-01 00:00:00.939340800</td>\n",
       "      <td>EVERY book is educational</td>\n",
       "      <td>this witty little book makes my son laugh at l...</td>\n",
       "      <td>375</td>\n",
       "    </tr>\n",
       "    <tr>\n",
       "      <th>138683</th>\n",
       "      <td>150501</td>\n",
       "      <td>0006641040</td>\n",
       "      <td>AJ46FKXOVC7NR</td>\n",
       "      <td>Nicholas A Mesiano</td>\n",
       "      <td>2</td>\n",
       "      <td>2</td>\n",
       "      <td>1</td>\n",
       "      <td>1970-01-01 00:00:00.940809600</td>\n",
       "      <td>This whole series is great way to spend time w...</td>\n",
       "      <td>I can remember seeing the show when it aired o...</td>\n",
       "      <td>407</td>\n",
       "    </tr>\n",
       "    <tr>\n",
       "      <th>417839</th>\n",
       "      <td>451856</td>\n",
       "      <td>B00004CXX9</td>\n",
       "      <td>AIUWLEQ1ADEG5</td>\n",
       "      <td>Elizabeth Medina</td>\n",
       "      <td>0</td>\n",
       "      <td>0</td>\n",
       "      <td>1</td>\n",
       "      <td>1970-01-01 00:00:00.944092800</td>\n",
       "      <td>Entertainingl Funny!</td>\n",
       "      <td>Beetlejuice is a well written movie ..... ever...</td>\n",
       "      <td>166</td>\n",
       "    </tr>\n",
       "    <tr>\n",
       "      <th>346055</th>\n",
       "      <td>374359</td>\n",
       "      <td>B00004CI84</td>\n",
       "      <td>A344SMIA5JECGM</td>\n",
       "      <td>Vincent P. Ross</td>\n",
       "      <td>1</td>\n",
       "      <td>2</td>\n",
       "      <td>1</td>\n",
       "      <td>1970-01-01 00:00:00.944438400</td>\n",
       "      <td>A modern day fairy tale</td>\n",
       "      <td>A twist of rumplestiskin captured on film, sta...</td>\n",
       "      <td>222</td>\n",
       "    </tr>\n",
       "    <tr>\n",
       "      <th>417838</th>\n",
       "      <td>451855</td>\n",
       "      <td>B00004CXX9</td>\n",
       "      <td>AJH6LUC1UT1ON</td>\n",
       "      <td>The Phantom of the Opera</td>\n",
       "      <td>0</td>\n",
       "      <td>0</td>\n",
       "      <td>1</td>\n",
       "      <td>1970-01-01 00:00:00.946857600</td>\n",
       "      <td>FANTASTIC!</td>\n",
       "      <td>Beetlejuice is an excellent and funny movie. K...</td>\n",
       "      <td>244</td>\n",
       "    </tr>\n",
       "  </tbody>\n",
       "</table>\n",
       "</div>"
      ],
      "text/plain": [
       "            Id   ProductId          UserId               ProfileName  \\\n",
       "138706  150524  0006641040   ACITT7DI6IDDL           shari zychinski   \n",
       "138683  150501  0006641040   AJ46FKXOVC7NR        Nicholas A Mesiano   \n",
       "417839  451856  B00004CXX9   AIUWLEQ1ADEG5          Elizabeth Medina   \n",
       "346055  374359  B00004CI84  A344SMIA5JECGM           Vincent P. Ross   \n",
       "417838  451855  B00004CXX9   AJH6LUC1UT1ON  The Phantom of the Opera   \n",
       "\n",
       "        HelpfulnessNumerator  HelpfulnessDenominator  Score  \\\n",
       "138706                     0                       0      1   \n",
       "138683                     2                       2      1   \n",
       "417839                     0                       0      1   \n",
       "346055                     1                       2      1   \n",
       "417838                     0                       0      1   \n",
       "\n",
       "                                Time  \\\n",
       "138706 1970-01-01 00:00:00.939340800   \n",
       "138683 1970-01-01 00:00:00.940809600   \n",
       "417839 1970-01-01 00:00:00.944092800   \n",
       "346055 1970-01-01 00:00:00.944438400   \n",
       "417838 1970-01-01 00:00:00.946857600   \n",
       "\n",
       "                                                  Summary  \\\n",
       "138706                          EVERY book is educational   \n",
       "138683  This whole series is great way to spend time w...   \n",
       "417839                               Entertainingl Funny!   \n",
       "346055                            A modern day fairy tale   \n",
       "417838                                         FANTASTIC!   \n",
       "\n",
       "                                                     Text  Length_Review  \n",
       "138706  this witty little book makes my son laugh at l...            375  \n",
       "138683  I can remember seeing the show when it aired o...            407  \n",
       "417839  Beetlejuice is a well written movie ..... ever...            166  \n",
       "346055  A twist of rumplestiskin captured on film, sta...            222  \n",
       "417838  Beetlejuice is an excellent and funny movie. K...            244  "
      ]
     },
     "execution_count": 9,
     "metadata": {},
     "output_type": "execute_result"
    }
   ],
   "source": [
    "final.head()"
   ]
  },
  {
   "cell_type": "code",
   "execution_count": 10,
   "metadata": {},
   "outputs": [
    {
     "data": {
      "text/plain": [
       "(100000, 11)"
      ]
     },
     "execution_count": 10,
     "metadata": {},
     "output_type": "execute_result"
    }
   ],
   "source": [
    "final.shape"
   ]
  },
  {
   "cell_type": "markdown",
   "metadata": {},
   "source": [
    "# Text Preprocessing\n"
   ]
  },
  {
   "cell_type": "code",
   "execution_count": 11,
   "metadata": {},
   "outputs": [],
   "source": [
    "import nltk\n",
    "import re\n",
    "def clean_html(sent):\n",
    "    clean_text=re.sub(r\"[<*.?>]\",' ',sent)\n",
    "    return clean_text\n",
    "\n",
    "def clean_punc(sent):\n",
    "    cleaned = re.sub(r'[?|!|\\'|\"|#]',r'',sent)\n",
    "    cleaned = re.sub(r'[.|,|)|(|\\|/]',r' ',cleaned)\n",
    "    return  cleaned\n",
    "from nltk.corpus import stopwords\n",
    "stop=set(stopwords.words('english'))\n",
    "sno = nltk.stem.SnowballStemmer('english')"
   ]
  },
  {
   "cell_type": "code",
   "execution_count": 12,
   "metadata": {},
   "outputs": [
    {
     "name": "stderr",
     "output_type": "stream",
     "text": [
      "100%|████████████████████████████████████████████████████████████████████████| 100000/100000 [01:27<00:00, 1138.17it/s]\n"
     ]
    }
   ],
   "source": [
    "from tqdm import tqdm\n",
    "import os\n",
    "\n",
    "final_string=[]\n",
    "for i,sent in enumerate(tqdm(final.Text.values)):\n",
    "    filtered_sentence=[]\n",
    "    sent=clean_html(sent)\n",
    "    for w in sent.split():\n",
    "        for word in clean_punc(w).split():\n",
    "            if ((word.isalpha())&(len(word)>2)):\n",
    "                if word.lower() not in stop:\n",
    "                    s=(sno.stem(word.lower())).encode('utf-8')\n",
    "                    filtered_sentence.append(s)\n",
    "    string=b' '.join(filtered_sentence)\n",
    "    final_string.append(string)\n",
    "\n",
    "final['Cleaned_Text']=final_string\n",
    "final['Cleaned_Text']=final['Cleaned_Text'].str.decode('utf-8')"
   ]
  },
  {
   "cell_type": "code",
   "execution_count": 13,
   "metadata": {},
   "outputs": [
    {
     "name": "stderr",
     "output_type": "stream",
     "text": [
      "100%|███████████████████████████████████████████████████████████████████████| 100000/100000 [00:06<00:00, 16498.23it/s]\n"
     ]
    }
   ],
   "source": [
    "from tqdm import tqdm\n",
    "import os\n",
    "\n",
    "final_string=[]\n",
    "for i,sent in enumerate(tqdm(final.Summary.values)):\n",
    "    filtered_sentence=[]\n",
    "    sent=clean_html(sent)\n",
    "    for w in sent.split():\n",
    "        for word in clean_punc(w).split():\n",
    "            if ((word.isalpha())&(len(word)>2)):\n",
    "                if word.lower() not in stop:\n",
    "                    s=(sno.stem(word.lower())).encode('utf-8')\n",
    "                    filtered_sentence.append(s)\n",
    "    string=b' '.join(filtered_sentence)\n",
    "    final_string.append(string)\n",
    "\n",
    "final['Cleaned_Summary']=final_string\n",
    "final['Cleaned_Summary']=final['Cleaned_Summary'].str.decode('utf-8')"
   ]
  },
  {
   "cell_type": "code",
   "execution_count": 14,
   "metadata": {},
   "outputs": [
    {
     "data": {
      "text/html": [
       "<div>\n",
       "<style scoped>\n",
       "    .dataframe tbody tr th:only-of-type {\n",
       "        vertical-align: middle;\n",
       "    }\n",
       "\n",
       "    .dataframe tbody tr th {\n",
       "        vertical-align: top;\n",
       "    }\n",
       "\n",
       "    .dataframe thead th {\n",
       "        text-align: right;\n",
       "    }\n",
       "</style>\n",
       "<table border=\"1\" class=\"dataframe\">\n",
       "  <thead>\n",
       "    <tr style=\"text-align: right;\">\n",
       "      <th></th>\n",
       "      <th>Id</th>\n",
       "      <th>ProductId</th>\n",
       "      <th>UserId</th>\n",
       "      <th>ProfileName</th>\n",
       "      <th>HelpfulnessNumerator</th>\n",
       "      <th>HelpfulnessDenominator</th>\n",
       "      <th>Score</th>\n",
       "      <th>Time</th>\n",
       "      <th>Summary</th>\n",
       "      <th>Text</th>\n",
       "      <th>Length_Review</th>\n",
       "      <th>Cleaned_Text</th>\n",
       "      <th>Cleaned_Summary</th>\n",
       "    </tr>\n",
       "  </thead>\n",
       "  <tbody>\n",
       "    <tr>\n",
       "      <th>138706</th>\n",
       "      <td>150524</td>\n",
       "      <td>0006641040</td>\n",
       "      <td>ACITT7DI6IDDL</td>\n",
       "      <td>shari zychinski</td>\n",
       "      <td>0</td>\n",
       "      <td>0</td>\n",
       "      <td>1</td>\n",
       "      <td>1970-01-01 00:00:00.939340800</td>\n",
       "      <td>EVERY book is educational</td>\n",
       "      <td>this witty little book makes my son laugh at l...</td>\n",
       "      <td>375</td>\n",
       "      <td>witti littl book make son laugh loud recit car...</td>\n",
       "      <td>everi book educ</td>\n",
       "    </tr>\n",
       "    <tr>\n",
       "      <th>138683</th>\n",
       "      <td>150501</td>\n",
       "      <td>0006641040</td>\n",
       "      <td>AJ46FKXOVC7NR</td>\n",
       "      <td>Nicholas A Mesiano</td>\n",
       "      <td>2</td>\n",
       "      <td>2</td>\n",
       "      <td>1</td>\n",
       "      <td>1970-01-01 00:00:00.940809600</td>\n",
       "      <td>This whole series is great way to spend time w...</td>\n",
       "      <td>I can remember seeing the show when it aired o...</td>\n",
       "      <td>407</td>\n",
       "      <td>rememb see show air televis year ago child sis...</td>\n",
       "      <td>whole seri great way spend time child</td>\n",
       "    </tr>\n",
       "    <tr>\n",
       "      <th>417839</th>\n",
       "      <td>451856</td>\n",
       "      <td>B00004CXX9</td>\n",
       "      <td>AIUWLEQ1ADEG5</td>\n",
       "      <td>Elizabeth Medina</td>\n",
       "      <td>0</td>\n",
       "      <td>0</td>\n",
       "      <td>1</td>\n",
       "      <td>1970-01-01 00:00:00.944092800</td>\n",
       "      <td>Entertainingl Funny!</td>\n",
       "      <td>Beetlejuice is a well written movie ..... ever...</td>\n",
       "      <td>166</td>\n",
       "      <td>beetlejuic well written movi everyth excel act...</td>\n",
       "      <td>entertainingl funni</td>\n",
       "    </tr>\n",
       "    <tr>\n",
       "      <th>346055</th>\n",
       "      <td>374359</td>\n",
       "      <td>B00004CI84</td>\n",
       "      <td>A344SMIA5JECGM</td>\n",
       "      <td>Vincent P. Ross</td>\n",
       "      <td>1</td>\n",
       "      <td>2</td>\n",
       "      <td>1</td>\n",
       "      <td>1970-01-01 00:00:00.944438400</td>\n",
       "      <td>A modern day fairy tale</td>\n",
       "      <td>A twist of rumplestiskin captured on film, sta...</td>\n",
       "      <td>222</td>\n",
       "      <td>twist rumplestiskin captur film star michael k...</td>\n",
       "      <td>modern day fairi tale</td>\n",
       "    </tr>\n",
       "    <tr>\n",
       "      <th>417838</th>\n",
       "      <td>451855</td>\n",
       "      <td>B00004CXX9</td>\n",
       "      <td>AJH6LUC1UT1ON</td>\n",
       "      <td>The Phantom of the Opera</td>\n",
       "      <td>0</td>\n",
       "      <td>0</td>\n",
       "      <td>1</td>\n",
       "      <td>1970-01-01 00:00:00.946857600</td>\n",
       "      <td>FANTASTIC!</td>\n",
       "      <td>Beetlejuice is an excellent and funny movie. K...</td>\n",
       "      <td>244</td>\n",
       "      <td>beetlejuic excel funni movi keaton hilari wack...</td>\n",
       "      <td>fantast</td>\n",
       "    </tr>\n",
       "  </tbody>\n",
       "</table>\n",
       "</div>"
      ],
      "text/plain": [
       "            Id   ProductId          UserId               ProfileName  \\\n",
       "138706  150524  0006641040   ACITT7DI6IDDL           shari zychinski   \n",
       "138683  150501  0006641040   AJ46FKXOVC7NR        Nicholas A Mesiano   \n",
       "417839  451856  B00004CXX9   AIUWLEQ1ADEG5          Elizabeth Medina   \n",
       "346055  374359  B00004CI84  A344SMIA5JECGM           Vincent P. Ross   \n",
       "417838  451855  B00004CXX9   AJH6LUC1UT1ON  The Phantom of the Opera   \n",
       "\n",
       "        HelpfulnessNumerator  HelpfulnessDenominator  Score  \\\n",
       "138706                     0                       0      1   \n",
       "138683                     2                       2      1   \n",
       "417839                     0                       0      1   \n",
       "346055                     1                       2      1   \n",
       "417838                     0                       0      1   \n",
       "\n",
       "                                Time  \\\n",
       "138706 1970-01-01 00:00:00.939340800   \n",
       "138683 1970-01-01 00:00:00.940809600   \n",
       "417839 1970-01-01 00:00:00.944092800   \n",
       "346055 1970-01-01 00:00:00.944438400   \n",
       "417838 1970-01-01 00:00:00.946857600   \n",
       "\n",
       "                                                  Summary  \\\n",
       "138706                          EVERY book is educational   \n",
       "138683  This whole series is great way to spend time w...   \n",
       "417839                               Entertainingl Funny!   \n",
       "346055                            A modern day fairy tale   \n",
       "417838                                         FANTASTIC!   \n",
       "\n",
       "                                                     Text  Length_Review  \\\n",
       "138706  this witty little book makes my son laugh at l...            375   \n",
       "138683  I can remember seeing the show when it aired o...            407   \n",
       "417839  Beetlejuice is a well written movie ..... ever...            166   \n",
       "346055  A twist of rumplestiskin captured on film, sta...            222   \n",
       "417838  Beetlejuice is an excellent and funny movie. K...            244   \n",
       "\n",
       "                                             Cleaned_Text  \\\n",
       "138706  witti littl book make son laugh loud recit car...   \n",
       "138683  rememb see show air televis year ago child sis...   \n",
       "417839  beetlejuic well written movi everyth excel act...   \n",
       "346055  twist rumplestiskin captur film star michael k...   \n",
       "417838  beetlejuic excel funni movi keaton hilari wack...   \n",
       "\n",
       "                              Cleaned_Summary  \n",
       "138706                        everi book educ  \n",
       "138683  whole seri great way spend time child  \n",
       "417839                    entertainingl funni  \n",
       "346055                  modern day fairi tale  \n",
       "417838                                fantast  "
      ]
     },
     "execution_count": 14,
     "metadata": {},
     "output_type": "execute_result"
    }
   ],
   "source": [
    "final.head()"
   ]
  },
  {
   "cell_type": "code",
   "execution_count": null,
   "metadata": {},
   "outputs": [],
   "source": []
  },
  {
   "cell_type": "markdown",
   "metadata": {},
   "source": [
    "# Time Based Splitting"
   ]
  },
  {
   "cell_type": "code",
   "execution_count": 15,
   "metadata": {},
   "outputs": [
    {
     "data": {
      "text/plain": [
       "(1    87729\n",
       " 0    12271\n",
       " Name: Score, dtype: int64,)"
      ]
     },
     "execution_count": 15,
     "metadata": {},
     "output_type": "execute_result"
    }
   ],
   "source": [
    "from sklearn.model_selection import train_test_split\n",
    "X_train_text,X_test_text,y_train,y_test=train_test_split(final.Cleaned_Text,final.Score,test_size=0.30,shuffle=False)\n",
    "X_train_summary,X_test_summary,y_train,y_test=train_test_split(final.Cleaned_Summary,final.Score,test_size=0.30,shuffle=False)\n",
    "X_train_length,X_test_length,y_train,y_text=train_test_split(final.Length_Review,final.Score,test_size=0.30,shuffle=False)\n",
    "\n",
    "final.Score.value_counts(),"
   ]
  },
  {
   "cell_type": "markdown",
   "metadata": {},
   "source": [
    "#### As we can see Our Data is Highly Imbalanced Positive class is far more than Negative Class"
   ]
  },
  {
   "cell_type": "markdown",
   "metadata": {},
   "source": [
    "# Bag of Words Model"
   ]
  },
  {
   "cell_type": "code",
   "execution_count": 16,
   "metadata": {},
   "outputs": [],
   "source": [
    "from sklearn.feature_extraction.text import CountVectorizer\n",
    "# Creating BOW for Text Column\n",
    "cv_bow_text=CountVectorizer()\n",
    "bow_X_train_text=cv_bow_text.fit_transform(X_train_text.values)\n",
    "bow_X_test_text=cv_bow_text.transform(X_test_text.values)"
   ]
  },
  {
   "cell_type": "code",
   "execution_count": 17,
   "metadata": {},
   "outputs": [],
   "source": [
    "# Creating BOW for Summary Column\n",
    "cv_bow_summary=CountVectorizer(max_features=100,min_df=50)\n",
    "bow_X_train_summary=cv_bow_summary.fit_transform(X_train_summary.values)\n",
    "bow_X_test_summary=cv_bow_summary.transform(X_test_summary.values)\n"
   ]
  },
  {
   "cell_type": "code",
   "execution_count": 18,
   "metadata": {},
   "outputs": [],
   "source": [
    "X_train_length=X_train_length.values.reshape(-1,1)\n",
    "X_test_length=X_test_length.values.reshape(-1,1)"
   ]
  },
  {
   "cell_type": "code",
   "execution_count": 19,
   "metadata": {},
   "outputs": [
    {
     "data": {
      "text/plain": [
       "(70000, 1)"
      ]
     },
     "execution_count": 19,
     "metadata": {},
     "output_type": "execute_result"
    }
   ],
   "source": [
    "X_train_length.shape"
   ]
  },
  {
   "cell_type": "code",
   "execution_count": 20,
   "metadata": {},
   "outputs": [],
   "source": [
    "from scipy.sparse import hstack\n",
    "\n",
    "bow_X_train=hstack([bow_X_train_text,bow_X_train_summary,X_train_length])\n",
    "bow_X_test=hstack([bow_X_test_text,bow_X_test_summary,X_test_length])"
   ]
  },
  {
   "cell_type": "code",
   "execution_count": 21,
   "metadata": {
    "collapsed": true
   },
   "outputs": [
    {
     "name": "stderr",
     "output_type": "stream",
     "text": [
      "C:\\Users\\SKS\\Anaconda3\\lib\\site-packages\\sklearn\\utils\\validation.py:444: DataConversionWarning: Data with input dtype int64 was converted to float64 by StandardScaler.\n",
      "  warnings.warn(msg, DataConversionWarning)\n",
      "C:\\Users\\SKS\\Anaconda3\\lib\\site-packages\\sklearn\\utils\\validation.py:444: DataConversionWarning: Data with input dtype int64 was converted to float64 by StandardScaler.\n",
      "  warnings.warn(msg, DataConversionWarning)\n",
      "C:\\Users\\SKS\\Anaconda3\\lib\\site-packages\\sklearn\\utils\\validation.py:444: DataConversionWarning: Data with input dtype int64 was converted to float64 by StandardScaler.\n",
      "  warnings.warn(msg, DataConversionWarning)\n"
     ]
    }
   ],
   "source": [
    "from sklearn.preprocessing import StandardScaler\n",
    "sc1=StandardScaler(with_mean=False)\n",
    "bow_X_train=sc1.fit_transform(bow_X_train)\n",
    "bow_X_test=sc1.transform(bow_X_test)"
   ]
  },
  {
   "cell_type": "markdown",
   "metadata": {},
   "source": [
    "#### I am Using MultinomialNB beacause it is given in sklearn that it works very well with discrete features and when working with word counts as we are not using binary features in BOW  it is best"
   ]
  },
  {
   "cell_type": "markdown",
   "metadata": {},
   "source": [
    "### Finding Optimal Value for Alpha"
   ]
  },
  {
   "cell_type": "code",
   "execution_count": 23,
   "metadata": {},
   "outputs": [
    {
     "data": {
      "image/png": "[encoded data removed]",
      "text/plain": [
       "<Figure size 432x288 with 1 Axes>"
      ]
     },
     "metadata": {},
     "output_type": "display_data"
    }
   ],
   "source": [
    "from sklearn.model_selection import cross_val_score\n",
    "from sklearn.naive_bayes import MultinomialNB\n",
    "a=[0.00001, 0.0001, 0.001, 0.01, 1, 10, 100]\n",
    "cv_score=[]\n",
    "for i in a:\n",
    "    classifier=MultinomialNB(alpha=i)\n",
    "    scores = cross_val_score(classifier, bow_X_train, y_train, cv=10, scoring='f1')\n",
    "    cv_score.append(scores.mean())\n",
    "\n",
    "optimal_alpha=a[cv_score.index(max(cv_score))]\n",
    "plt.plot(a,cv_score)\n",
    "xy = (optimal_alpha, max(cv_score))\n",
    "plt.annotate('(%s, %s)' % xy,xy=xy,textcoords='data')\n",
    "plt.xlabel(\"alpha\")\n",
    "plt.ylabel(\"f1-score\")\n",
    "plt.show()  \n"
   ]
  },
  {
   "cell_type": "code",
   "execution_count": 24,
   "metadata": {},
   "outputs": [
    {
     "data": {
      "text/plain": [
       "1e-05"
      ]
     },
     "execution_count": 24,
     "metadata": {},
     "output_type": "execute_result"
    }
   ],
   "source": [
    "optimal_alpha"
   ]
  },
  {
   "cell_type": "markdown",
   "metadata": {},
   "source": [
    "#### Optimal Value for alpha by 10-Fold Validation is 0.00001"
   ]
  },
  {
   "cell_type": "markdown",
   "metadata": {},
   "source": [
    "### Accuracy Metrics "
   ]
  },
  {
   "cell_type": "code",
   "execution_count": 25,
   "metadata": {},
   "outputs": [],
   "source": [
    "from sklearn.metrics import accuracy_score,classification_report,confusion_matrix"
   ]
  },
  {
   "cell_type": "code",
   "execution_count": 26,
   "metadata": {},
   "outputs": [
    {
     "name": "stdout",
     "output_type": "stream",
     "text": [
      "Training Accuracy- 90.73428571428572%\n",
      "Testing Accuracy- 83.58%\n",
      "Training Error- 9.265714285714282%\n",
      "Testing Error- 16.42%\n"
     ]
    }
   ],
   "source": [
    "classifier=MultinomialNB(alpha=optimal_alpha)\n",
    "classifier.fit(bow_X_train,y_train)\n",
    "pred_train=classifier.predict(bow_X_train)\n",
    "pred_test=classifier.predict(bow_X_test)\n",
    "accuracy_bow_train=accuracy_score(y_train,pred_train)*100\n",
    "accuracy_bow_test=accuracy_score(y_test,pred_test)*100\n",
    "print(\"Training Accuracy- {}%\".format(accuracy_bow_train))\n",
    "print(\"Testing Accuracy- {}%\".format(accuracy_bow_test))\n",
    "print(\"Training Error- {}%\".format(100-accuracy_bow_train))\n",
    "print(\"Testing Error- {}%\".format(100-accuracy_bow_test))"
   ]
  },
  {
   "cell_type": "markdown",
   "metadata": {},
   "source": [
    "#### As both Training and Testing Error are low We can say that Our Model is doing Fine \n",
    "\n",
    "#### But we can't rely on simple Accuracy as our data is highly Imabalaced\n",
    "\n",
    "#### Accuracy for Test data is 83.58%"
   ]
  },
  {
   "cell_type": "markdown",
   "metadata": {},
   "source": [
    "### Classification Report "
   ]
  },
  {
   "cell_type": "code",
   "execution_count": 27,
   "metadata": {},
   "outputs": [
    {
     "name": "stdout",
     "output_type": "stream",
     "text": [
      "             precision    recall  f1-score   support\n",
      "\n",
      "          0       0.43      0.59      0.49      4103\n",
      "          1       0.93      0.88      0.90     25897\n",
      "\n",
      "avg / total       0.86      0.84      0.85     30000\n",
      "\n"
     ]
    }
   ],
   "source": [
    "print(classification_report(y_test,pred_test))"
   ]
  },
  {
   "cell_type": "markdown",
   "metadata": {},
   "source": [
    "#### For Negative Reviews Recall is 0.59 or 59% which means out of all Actual Negative Points we are just predicting 59% of negative correctly which is bad while in Positive Reviews we are predicting 88% of Reviews as Positive out of all Actual Positive Reviews\n",
    "\n",
    "#### F1 Score for Negative Review(0) is also very low"
   ]
  },
  {
   "cell_type": "markdown",
   "metadata": {},
   "source": [
    "### Confusion Matrix"
   ]
  },
  {
   "cell_type": "code",
   "execution_count": 33,
   "metadata": {},
   "outputs": [
    {
     "data": {
      "image/png": "[encoded data removed]",
      "text/plain": [
       "<Figure size 432x288 with 2 Axes>"
      ]
     },
     "metadata": {},
     "output_type": "display_data"
    }
   ],
   "source": [
    "from sklearn.metrics import confusion_matrix\n",
    "df_cm = pd.DataFrame(confusion_matrix(y_train,pred_train), [\"Negative\", \"Positive\"],[\"Negative\", \"Positive\"],dtype=int)\n",
    "sns.set(font_scale=1.4)\n",
    "sns.heatmap(df_cm, annot=True,annot_kws={\"size\": 16}, fmt='g')\n",
    "plt.title('Confusion Matrix for Training Data ')\n",
    "plt.show()"
   ]
  },
  {
   "cell_type": "code",
   "execution_count": 34,
   "metadata": {},
   "outputs": [
    {
     "data": {
      "text/plain": [
       "<matplotlib.axes._subplots.AxesSubplot at 0x16f7277a048>"
      ]
     },
     "execution_count": 34,
     "metadata": {},
     "output_type": "execute_result"
    },
    {
     "data": {
      "image/png": "[encoded data removed]",
      "text/plain": [
       "<Figure size 432x288 with 2 Axes>"
      ]
     },
     "metadata": {},
     "output_type": "display_data"
    }
   ],
   "source": [
    "from sklearn.metrics import confusion_matrix\n",
    "df_cm = pd.DataFrame(confusion_matrix(y_test,pred_test), [\"Negative\", \"Positive\"],[\"Negative\", \"Positive\"],dtype=int)\n",
    "sns.set(font_scale=1.4)\n",
    "sns.heatmap(df_cm, annot=True,annot_kws={\"size\": 16}, fmt='g')"
   ]
  },
  {
   "cell_type": "markdown",
   "metadata": {},
   "source": [
    "#### From Confusion Matrix We can see that we are prediciting alot of negative reviews as positive as 1697 negative reveiws are preidcted as positive"
   ]
  },
  {
   "cell_type": "code",
   "execution_count": 35,
   "metadata": {},
   "outputs": [
    {
     "name": "stdout",
     "output_type": "stream",
     "text": [
      "TPR- 0.930350913195157\n",
      "FPR- 0.5730257320319432\n",
      "TNR- 0.42697426796805676\n",
      "FNR- 0.06964908680484301\n"
     ]
    }
   ],
   "source": [
    "TN,FN,FP,TP = confusion_matrix(y_test, pred_test).ravel()\n",
    "\n",
    "TPR = TP/(FN + TP)\n",
    "\n",
    "FPR = FP/(TN + FP)\n",
    "\n",
    "TNR = TN/(TN + FP)\n",
    "\n",
    "FNR = FN/(FN + TP)\n",
    "\n",
    "print(\"TPR- {}\".format(TPR))\n",
    "print(\"FPR- {}\".format(FPR))\n",
    "print(\"TNR- {}\".format(TNR))\n",
    "print(\"FNR- {}\".format(FNR))"
   ]
  },
  {
   "cell_type": "markdown",
   "metadata": {},
   "source": [
    "#### TPR is High which is good \n",
    "#### TNR is Low which is not good\n",
    "#### FPR is Higher than TNR which is not good\n",
    "#### FNR is low which is good"
   ]
  },
  {
   "cell_type": "markdown",
   "metadata": {},
   "source": [
    "### Important Features"
   ]
  },
  {
   "cell_type": "code",
   "execution_count": null,
   "metadata": {},
   "outputs": [],
   "source": []
  },
  {
   "cell_type": "code",
   "execution_count": 36,
   "metadata": {},
   "outputs": [
    {
     "data": {
      "text/html": [
       "<div>\n",
       "<style scoped>\n",
       "    .dataframe tbody tr th:only-of-type {\n",
       "        vertical-align: middle;\n",
       "    }\n",
       "\n",
       "    .dataframe tbody tr th {\n",
       "        vertical-align: top;\n",
       "    }\n",
       "\n",
       "    .dataframe thead th {\n",
       "        text-align: right;\n",
       "    }\n",
       "</style>\n",
       "<table border=\"1\" class=\"dataframe\">\n",
       "  <thead>\n",
       "    <tr style=\"text-align: right;\">\n",
       "      <th></th>\n",
       "      <th>0</th>\n",
       "      <th>1</th>\n",
       "    </tr>\n",
       "  </thead>\n",
       "  <tbody>\n",
       "    <tr>\n",
       "      <th>aaa</th>\n",
       "      <td>-26.658542</td>\n",
       "      <td>-11.459752</td>\n",
       "    </tr>\n",
       "    <tr>\n",
       "      <th>aaaaaaaaagghh</th>\n",
       "      <td>-26.658542</td>\n",
       "      <td>-11.459752</td>\n",
       "    </tr>\n",
       "    <tr>\n",
       "      <th>aaaaah</th>\n",
       "      <td>-26.658542</td>\n",
       "      <td>-11.113171</td>\n",
       "    </tr>\n",
       "    <tr>\n",
       "      <th>aaaaahhhhhhhhhhhhhhhh</th>\n",
       "      <td>-26.658542</td>\n",
       "      <td>-11.459752</td>\n",
       "    </tr>\n",
       "    <tr>\n",
       "      <th>aaaah</th>\n",
       "      <td>-26.658542</td>\n",
       "      <td>-11.459752</td>\n",
       "    </tr>\n",
       "  </tbody>\n",
       "</table>\n",
       "</div>"
      ],
      "text/plain": [
       "                               0          1\n",
       "aaa                   -26.658542 -11.459752\n",
       "aaaaaaaaagghh         -26.658542 -11.459752\n",
       "aaaaah                -26.658542 -11.113171\n",
       "aaaaahhhhhhhhhhhhhhhh -26.658542 -11.459752\n",
       "aaaah                 -26.658542 -11.459752"
      ]
     },
     "execution_count": 36,
     "metadata": {},
     "output_type": "execute_result"
    }
   ],
   "source": [
    "bow_features_text =cv_bow_text.get_feature_names()\n",
    "bow_features_summary =cv_bow_summary.get_feature_names()\n",
    "bow_features=bow_features_text+bow_features_summary+['Lenght of Review']\n",
    "log_prob= classifier.feature_log_prob_\n",
    "feature_prob = pd.DataFrame(log_prob, columns = bow_features)\n",
    "feature_prob=feature_prob.T\n",
    "feature_prob.head()"
   ]
  },
  {
   "cell_type": "markdown",
   "metadata": {},
   "source": [
    "#### Important Features for Negative Review"
   ]
  },
  {
   "cell_type": "code",
   "execution_count": 37,
   "metadata": {},
   "outputs": [
    {
     "data": {
      "text/plain": [
       "Lenght of Review   -6.107965\n",
       "tast               -6.446552\n",
       "product            -6.555517\n",
       "like               -6.574484\n",
       "disappoint         -6.584159\n",
       "would              -6.644072\n",
       "one                -6.766381\n",
       "bad                -6.813411\n",
       "disappoint         -6.822687\n",
       "tri                -6.824184\n",
       "Name: 0, dtype: float64"
      ]
     },
     "execution_count": 37,
     "metadata": {},
     "output_type": "execute_result"
    }
   ],
   "source": [
    "feature_prob[0].sort_values(ascending = False)[0:10]"
   ]
  },
  {
   "cell_type": "markdown",
   "metadata": {},
   "source": [
    "#### Important Features for Positive Review"
   ]
  },
  {
   "cell_type": "code",
   "execution_count": 38,
   "metadata": {},
   "outputs": [
    {
     "data": {
      "text/plain": [
       "Lenght of Review   -6.065358\n",
       "great              -6.563717\n",
       "love               -6.626023\n",
       "good               -6.628695\n",
       "tast               -6.670320\n",
       "like               -6.675301\n",
       "tri                -6.814300\n",
       "flavor             -6.820576\n",
       "one                -6.824214\n",
       "make               -6.848042\n",
       "Name: 1, dtype: float64"
      ]
     },
     "execution_count": 38,
     "metadata": {},
     "output_type": "execute_result"
    }
   ],
   "source": [
    "feature_prob[1].sort_values(ascending = False)[0:10]"
   ]
  },
  {
   "cell_type": "markdown",
   "metadata": {},
   "source": [
    "# TF-IDF Model"
   ]
  },
  {
   "cell_type": "code",
   "execution_count": 48,
   "metadata": {},
   "outputs": [],
   "source": [
    "from sklearn.feature_extraction.text import TfidfVectorizer,TfidfTransformer\n",
    "tfidf_vect_text=TfidfVectorizer(ngram_range=(1,2))\n",
    "tfidf_X_train_text=tfidf_vect_text.fit_transform(X_train_text.values)\n",
    "tfidf_X_test_text=tfidf_vect_text.transform(X_test_text.values)\n",
    "\n",
    "tfidf_vect_summary=TfidfVectorizer(ngram_range=(1,2),max_features=100,min_df=50)\n",
    "tfidf_X_train_summary=tfidf_vect_summary.fit_transform(X_train_summary.values)\n",
    "tfidf_X_test_summary=tfidf_vect_summary.transform(X_test_summary.values)\n",
    "\n",
    "from scipy.sparse import hstack\n",
    "\n",
    "tfidf_X_train=hstack([tfidf_X_train_text,tfidf_X_train_summary,X_train_length])\n",
    "tfidf_X_test=hstack([tfidf_X_test_text,tfidf_X_test_summary,X_test_length])\n",
    "\n",
    "from sklearn.preprocessing import StandardScaler\n",
    "sc1=StandardScaler(with_mean=False)\n",
    "tfidf_X_train=sc1.fit_transform(tfidf_X_train)\n",
    "tfidf_X_test=sc1.transform(tfidf_X_test)"
   ]
  },
  {
   "cell_type": "markdown",
   "metadata": {},
   "source": [
    "### Finding Optimal Value for Alpha"
   ]
  },
  {
   "cell_type": "code",
   "execution_count": 49,
   "metadata": {},
   "outputs": [
    {
     "data": {
      "image/png": "[encoded data removed]",
      "text/plain": [
       "<Figure size 432x288 with 1 Axes>"
      ]
     },
     "metadata": {},
     "output_type": "display_data"
    }
   ],
   "source": [
    "a=[0.00001, 0.0001, 0.001, 0.01, 1, 10, 100]\n",
    "cv_score=[]\n",
    "for i in a:\n",
    "    classifier=MultinomialNB(alpha=i)\n",
    "    scores = cross_val_score(classifier, tfidf_X_train, y_train, cv=10, scoring='f1')\n",
    "    cv_score.append(scores.mean())\n",
    "\n",
    "optimal_alpha=a[cv_score.index(max(cv_score))]\n",
    "plt.plot(a,cv_score)\n",
    "xy = (optimal_alpha, max(cv_score))\n",
    "plt.annotate('(%s, %s)' % xy,xy=xy,textcoords='data')\n",
    "plt.xlabel(\"alpha\")\n",
    "plt.ylabel(\"f1-score\")\n",
    "plt.show()  \n",
    "  "
   ]
  },
  {
   "cell_type": "markdown",
   "metadata": {},
   "source": [
    "#### Optimal Value for alpha by 10-Fold Validation is 0.00001"
   ]
  },
  {
   "cell_type": "markdown",
   "metadata": {},
   "source": [
    "### Accuracy Metrics "
   ]
  },
  {
   "cell_type": "code",
   "execution_count": 50,
   "metadata": {},
   "outputs": [
    {
     "name": "stdout",
     "output_type": "stream",
     "text": [
      "Training Accuracy- 99.93285714285715%\n",
      "Testing Accuracy- 85.41%\n",
      "Training Error- 0.06714285714285495%\n",
      "Testing Error- 14.590000000000003%\n"
     ]
    }
   ],
   "source": [
    "classifier=MultinomialNB(alpha=optimal_alpha)\n",
    "classifier.fit(tfidf_X_train,y_train)\n",
    "pred_train=classifier.predict(tfidf_X_train)\n",
    "pred_test=classifier.predict(tfidf_X_test)\n",
    "accuracy_tfidf_train=accuracy_score(y_train,pred_train)*100\n",
    "accuracy_tfidf_test=accuracy_score(y_test,pred_test)*100\n",
    "print(\"Training Accuracy- {}%\".format(accuracy_tfidf_train))\n",
    "print(\"Testing Accuracy- {}%\".format(accuracy_tfidf_test))\n",
    "print(\"Training Error- {}%\".format(100-accuracy_tfidf_train))\n",
    "print(\"Testing Error- {}%\".format(100-accuracy_tfidf_test))\n"
   ]
  },
  {
   "cell_type": "markdown",
   "metadata": {},
   "source": [
    "#### Testing error is little High with respect to training error might be Overfitting here\n",
    "\n",
    "#### But we can't rely on simple Accuracy as our data is highly Imabalaced\n",
    "\n",
    "#### Accuracy for Test data is 85.41%"
   ]
  },
  {
   "cell_type": "markdown",
   "metadata": {},
   "source": [
    "### Classification Report"
   ]
  },
  {
   "cell_type": "code",
   "execution_count": 51,
   "metadata": {},
   "outputs": [
    {
     "name": "stdout",
     "output_type": "stream",
     "text": [
      "             precision    recall  f1-score   support\n",
      "\n",
      "          0       0.40      0.13      0.20      4103\n",
      "          1       0.88      0.97      0.92     25897\n",
      "\n",
      "avg / total       0.81      0.85      0.82     30000\n",
      "\n"
     ]
    }
   ],
   "source": [
    "print(classification_report(y_test,pred_test))"
   ]
  },
  {
   "cell_type": "markdown",
   "metadata": {},
   "source": [
    "#### For Negative Reviews Recall is 0.13 or 13% which means out of all Actual Negative Points we are just predicting 13% of negative correctly which is bad while in Positive Reviews we are predicting 97% of Reviews as Positive out of all Actual Positive Reviews\n",
    "\n",
    "#### F1 Score for Negative Review(0) is also very low\n",
    "\n",
    "#### Model through TFIDF is predicting most of the Points as Positive reveiws as recall for negative review is very low"
   ]
  },
  {
   "cell_type": "markdown",
   "metadata": {},
   "source": [
    "### Confusion Matrix"
   ]
  },
  {
   "cell_type": "code",
   "execution_count": 52,
   "metadata": {},
   "outputs": [
    {
     "data": {
      "image/png": "[encoded data removed]",
      "text/plain": [
       "<Figure size 432x288 with 2 Axes>"
      ]
     },
     "metadata": {},
     "output_type": "display_data"
    }
   ],
   "source": [
    "from sklearn.metrics import confusion_matrix\n",
    "df_cm = pd.DataFrame(confusion_matrix(y_train,pred_train), [\"Negative\", \"Positive\"],[\"Negative\", \"Positive\"],dtype=int)\n",
    "sns.set(font_scale=1.4)\n",
    "sns.heatmap(df_cm, annot=True,annot_kws={\"size\": 16}, fmt='g')\n",
    "plt.title('Confusion Matrix for Training Data ')\n",
    "plt.show()"
   ]
  },
  {
   "cell_type": "code",
   "execution_count": 53,
   "metadata": {},
   "outputs": [
    {
     "data": {
      "text/plain": [
       "<matplotlib.axes._subplots.AxesSubplot at 0x16f78b67cf8>"
      ]
     },
     "execution_count": 53,
     "metadata": {},
     "output_type": "execute_result"
    },
    {
     "data": {
      "image/png": "[encoded data removed]",
      "text/plain": [
       "<Figure size 432x288 with 2 Axes>"
      ]
     },
     "metadata": {},
     "output_type": "display_data"
    }
   ],
   "source": [
    "from sklearn.metrics import confusion_matrix\n",
    "df_cm = pd.DataFrame(confusion_matrix(y_test,pred_test), [\"Negative\", \"Positive\"],[\"Negative\", \"Positive\"],dtype=int)\n",
    "sns.set(font_scale=1.4)\n",
    "sns.heatmap(df_cm, annot=True,annot_kws={\"size\": 16}, fmt='g')"
   ]
  },
  {
   "cell_type": "markdown",
   "metadata": {},
   "source": [
    "#### From Confusion Matrix We can see that we are predicted more Negetive Reviews as Postive Reviews than Negative Reviews as Negative Reviews i.e. Out of 4098 Negative reviews we are predicting 3553 reviews as Positive "
   ]
  },
  {
   "cell_type": "code",
   "execution_count": 54,
   "metadata": {},
   "outputs": [
    {
     "name": "stdout",
     "output_type": "stream",
     "text": [
      "TPR-0.8757245617710734\n",
      "FPR-0.6005873715124816\n",
      "TNR-0.39941262848751835\n",
      "FNR-0.1242754382289266\n"
     ]
    }
   ],
   "source": [
    "TN,FN,FP,TP = confusion_matrix(y_test, pred_test).ravel()\n",
    "\n",
    "TPR = TP/(FN + TP)\n",
    "\n",
    "FPR = FP/(TN + FP)\n",
    "\n",
    "TNR = TN/(TN + FP)\n",
    "\n",
    "FNR = FN/(FN + TP)\n",
    "\n",
    "print(\"TPR-{}\".format(TPR))\n",
    "print(\"FPR-{}\".format(FPR))\n",
    "print(\"TNR-{}\".format(TNR))\n",
    "print(\"FNR-{}\".format(FNR))"
   ]
  },
  {
   "cell_type": "markdown",
   "metadata": {},
   "source": [
    "### Important Features"
   ]
  },
  {
   "cell_type": "code",
   "execution_count": 55,
   "metadata": {},
   "outputs": [
    {
     "data": {
      "text/html": [
       "<div>\n",
       "<style scoped>\n",
       "    .dataframe tbody tr th:only-of-type {\n",
       "        vertical-align: middle;\n",
       "    }\n",
       "\n",
       "    .dataframe tbody tr th {\n",
       "        vertical-align: top;\n",
       "    }\n",
       "\n",
       "    .dataframe thead th {\n",
       "        text-align: right;\n",
       "    }\n",
       "</style>\n",
       "<table border=\"1\" class=\"dataframe\">\n",
       "  <thead>\n",
       "    <tr style=\"text-align: right;\">\n",
       "      <th></th>\n",
       "      <th>0</th>\n",
       "      <th>1</th>\n",
       "    </tr>\n",
       "  </thead>\n",
       "  <tbody>\n",
       "    <tr>\n",
       "      <th>aaa</th>\n",
       "      <td>-29.136063</td>\n",
       "      <td>-13.913703</td>\n",
       "    </tr>\n",
       "    <tr>\n",
       "      <th>aaa perfect</th>\n",
       "      <td>-29.136063</td>\n",
       "      <td>-13.913703</td>\n",
       "    </tr>\n",
       "    <tr>\n",
       "      <th>aaaaaaaaagghh</th>\n",
       "      <td>-29.136063</td>\n",
       "      <td>-13.913703</td>\n",
       "    </tr>\n",
       "    <tr>\n",
       "      <th>aaaaah</th>\n",
       "      <td>-29.136063</td>\n",
       "      <td>-13.573255</td>\n",
       "    </tr>\n",
       "    <tr>\n",
       "      <th>aaaaah awak</th>\n",
       "      <td>-29.136063</td>\n",
       "      <td>-13.913703</td>\n",
       "    </tr>\n",
       "  </tbody>\n",
       "</table>\n",
       "</div>"
      ],
      "text/plain": [
       "                       0          1\n",
       "aaa           -29.136063 -13.913703\n",
       "aaa perfect   -29.136063 -13.913703\n",
       "aaaaaaaaagghh -29.136063 -13.913703\n",
       "aaaaah        -29.136063 -13.573255\n",
       "aaaaah awak   -29.136063 -13.913703"
      ]
     },
     "execution_count": 55,
     "metadata": {},
     "output_type": "execute_result"
    }
   ],
   "source": [
    "tfidf_features_text =tfidf_vect_text.get_feature_names()\n",
    "tfidf_features_summary =tfidf_vect_summary.get_feature_names()\n",
    "tfidf_features=tfidf_features_text+tfidf_features_summary+[\"Length of Review\"]\n",
    "log_prob = classifier.feature_log_prob_\n",
    "feature_prob = pd.DataFrame(log_prob, columns = tfidf_features)\n",
    "feature_prob=feature_prob.T\n",
    "feature_prob.head()"
   ]
  },
  {
   "cell_type": "markdown",
   "metadata": {},
   "source": [
    "#### Important Features for Negative Review"
   ]
  },
  {
   "cell_type": "code",
   "execution_count": 56,
   "metadata": {},
   "outputs": [
    {
     "data": {
      "text/plain": [
       "Length of Review   -8.585486\n",
       "tast               -8.907593\n",
       "like               -9.016520\n",
       "product            -9.085389\n",
       "disappoint         -9.088748\n",
       "would              -9.132766\n",
       "one                -9.268544\n",
       "bad                -9.330429\n",
       "money              -9.369090\n",
       "tri                -9.380889\n",
       "Name: 0, dtype: float64"
      ]
     },
     "execution_count": 56,
     "metadata": {},
     "output_type": "execute_result"
    }
   ],
   "source": [
    "feature_prob[0].sort_values(ascending = False)[0:10]"
   ]
  },
  {
   "cell_type": "markdown",
   "metadata": {},
   "source": [
    "#### Important Features for Positive Review"
   ]
  },
  {
   "cell_type": "code",
   "execution_count": 58,
   "metadata": {},
   "outputs": [
    {
     "data": {
      "text/plain": [
       "Length of Review   -8.519309\n",
       "tast               -9.071639\n",
       "great              -9.072093\n",
       "like               -9.097226\n",
       "love               -9.106406\n",
       "good               -9.109795\n",
       "flavor             -9.202779\n",
       "one                -9.254110\n",
       "use                -9.254616\n",
       "product            -9.266829\n",
       "Name: 1, dtype: float64"
      ]
     },
     "execution_count": 58,
     "metadata": {},
     "output_type": "execute_result"
    }
   ],
   "source": [
    "feature_prob[1].sort_values(ascending = False)[0:10]"
   ]
  },
  {
   "cell_type": "markdown",
   "metadata": {},
   "source": [
    "# Conclusion\n",
    "* Accuracy for TF-IDF model is more but we can't rely on Accuracy as our data is imbalance\n",
    "* F1-Score for BOW model is more which shows that our bag of words model is doing better than TFIDF\n",
    "* Recall for Both Labels in BOW is better than TFIDF as in TFIDF most of the points are predicted as positive \n",
    "* There is very small change in F1 Score with both models\n"
   ]
  },
  {
   "cell_type": "code",
   "execution_count": null,
   "metadata": {},
   "outputs": [],
   "source": []
  },
  {
   "cell_type": "code",
   "execution_count": null,
   "metadata": {},
   "outputs": [],
   "source": []
  }
 ],
 "metadata": {
  "kernelspec": {
   "display_name": "Python 3",
   "language": "python",
   "name": "python3"
  },
  "language_info": {
   "codemirror_mode": {
    "name": "ipython",
    "version": 3
   },
   "file_extension": ".py",
   "mimetype": "text/x-python",
   "name": "python",
   "nbconvert_exporter": "python",
   "pygments_lexer": "ipython3",
   "version": "3.6.2"
  }
 },
 "nbformat": 4,
 "nbformat_minor": 2
}
