{
 "cells": [
  {
   "cell_type": "code",
   "execution_count": 1,
   "metadata": {},
   "outputs": [],
   "source": [
    "import pandas as pd\n",
    "import numpy as np\n",
    "import matplotlib.pyplot as plt\n",
    "import seaborn as sns\n",
    "import sqlite3\n",
    "%matplotlib inline"
   ]
  },
  {
   "cell_type": "code",
   "execution_count": 2,
   "metadata": {},
   "outputs": [],
   "source": [
    "conn=sqlite3.connect('C:/Users/SKS/Desktop/AAIC/database.sqlite')\n",
    "filtered_data=pd.read_sql_query('''SELECT * FROM REVIEWS WHERE SCORE!=3''',conn)\n"
   ]
  },
  {
   "cell_type": "code",
   "execution_count": 3,
   "metadata": {},
   "outputs": [],
   "source": [
    "filtered_data.Score=filtered_data.Score.apply(lambda x:'positive' if x>3 else 'negative')"
   ]
  },
  {
   "cell_type": "code",
   "execution_count": 4,
   "metadata": {},
   "outputs": [],
   "source": [
    "sorted_values=filtered_data.sort_values('ProductId',axis=0,ascending=True)\n",
    "final=sorted_values.drop_duplicates(subset={\"UserId\",\"ProfileName\",\"Time\",\"Text\"}, keep='first', inplace=False)\n",
    "final=final[final.HelpfulnessNumerator<=final.HelpfulnessDenominator]"
   ]
  },
  {
   "cell_type": "code",
   "execution_count": 5,
   "metadata": {},
   "outputs": [
    {
     "data": {
      "text/html": [
       "<div>\n",
       "<style scoped>\n",
       "    .dataframe tbody tr th:only-of-type {\n",
       "        vertical-align: middle;\n",
       "    }\n",
       "\n",
       "    .dataframe tbody tr th {\n",
       "        vertical-align: top;\n",
       "    }\n",
       "\n",
       "    .dataframe thead th {\n",
       "        text-align: right;\n",
       "    }\n",
       "</style>\n",
       "<table border=\"1\" class=\"dataframe\">\n",
       "  <thead>\n",
       "    <tr style=\"text-align: right;\">\n",
       "      <th></th>\n",
       "      <th>Id</th>\n",
       "      <th>ProductId</th>\n",
       "      <th>UserId</th>\n",
       "      <th>ProfileName</th>\n",
       "      <th>HelpfulnessNumerator</th>\n",
       "      <th>HelpfulnessDenominator</th>\n",
       "      <th>Score</th>\n",
       "      <th>Time</th>\n",
       "      <th>Summary</th>\n",
       "      <th>Text</th>\n",
       "    </tr>\n",
       "  </thead>\n",
       "  <tbody>\n",
       "    <tr>\n",
       "      <th>138706</th>\n",
       "      <td>150524</td>\n",
       "      <td>0006641040</td>\n",
       "      <td>ACITT7DI6IDDL</td>\n",
       "      <td>shari zychinski</td>\n",
       "      <td>0</td>\n",
       "      <td>0</td>\n",
       "      <td>positive</td>\n",
       "      <td>1970-01-01 00:00:00.939340800</td>\n",
       "      <td>EVERY book is educational</td>\n",
       "      <td>this witty little book makes my son laugh at l...</td>\n",
       "    </tr>\n",
       "    <tr>\n",
       "      <th>138683</th>\n",
       "      <td>150501</td>\n",
       "      <td>0006641040</td>\n",
       "      <td>AJ46FKXOVC7NR</td>\n",
       "      <td>Nicholas A Mesiano</td>\n",
       "      <td>2</td>\n",
       "      <td>2</td>\n",
       "      <td>positive</td>\n",
       "      <td>1970-01-01 00:00:00.940809600</td>\n",
       "      <td>This whole series is great way to spend time w...</td>\n",
       "      <td>I can remember seeing the show when it aired o...</td>\n",
       "    </tr>\n",
       "    <tr>\n",
       "      <th>417839</th>\n",
       "      <td>451856</td>\n",
       "      <td>B00004CXX9</td>\n",
       "      <td>AIUWLEQ1ADEG5</td>\n",
       "      <td>Elizabeth Medina</td>\n",
       "      <td>0</td>\n",
       "      <td>0</td>\n",
       "      <td>positive</td>\n",
       "      <td>1970-01-01 00:00:00.944092800</td>\n",
       "      <td>Entertainingl Funny!</td>\n",
       "      <td>Beetlejuice is a well written movie ..... ever...</td>\n",
       "    </tr>\n",
       "    <tr>\n",
       "      <th>346055</th>\n",
       "      <td>374359</td>\n",
       "      <td>B00004CI84</td>\n",
       "      <td>A344SMIA5JECGM</td>\n",
       "      <td>Vincent P. Ross</td>\n",
       "      <td>1</td>\n",
       "      <td>2</td>\n",
       "      <td>positive</td>\n",
       "      <td>1970-01-01 00:00:00.944438400</td>\n",
       "      <td>A modern day fairy tale</td>\n",
       "      <td>A twist of rumplestiskin captured on film, sta...</td>\n",
       "    </tr>\n",
       "    <tr>\n",
       "      <th>417838</th>\n",
       "      <td>451855</td>\n",
       "      <td>B00004CXX9</td>\n",
       "      <td>AJH6LUC1UT1ON</td>\n",
       "      <td>The Phantom of the Opera</td>\n",
       "      <td>0</td>\n",
       "      <td>0</td>\n",
       "      <td>positive</td>\n",
       "      <td>1970-01-01 00:00:00.946857600</td>\n",
       "      <td>FANTASTIC!</td>\n",
       "      <td>Beetlejuice is an excellent and funny movie. K...</td>\n",
       "    </tr>\n",
       "  </tbody>\n",
       "</table>\n",
       "</div>"
      ],
      "text/plain": [
       "            Id   ProductId          UserId               ProfileName  \\\n",
       "138706  150524  0006641040   ACITT7DI6IDDL           shari zychinski   \n",
       "138683  150501  0006641040   AJ46FKXOVC7NR        Nicholas A Mesiano   \n",
       "417839  451856  B00004CXX9   AIUWLEQ1ADEG5          Elizabeth Medina   \n",
       "346055  374359  B00004CI84  A344SMIA5JECGM           Vincent P. Ross   \n",
       "417838  451855  B00004CXX9   AJH6LUC1UT1ON  The Phantom of the Opera   \n",
       "\n",
       "        HelpfulnessNumerator  HelpfulnessDenominator     Score  \\\n",
       "138706                     0                       0  positive   \n",
       "138683                     2                       2  positive   \n",
       "417839                     0                       0  positive   \n",
       "346055                     1                       2  positive   \n",
       "417838                     0                       0  positive   \n",
       "\n",
       "                                Time  \\\n",
       "138706 1970-01-01 00:00:00.939340800   \n",
       "138683 1970-01-01 00:00:00.940809600   \n",
       "417839 1970-01-01 00:00:00.944092800   \n",
       "346055 1970-01-01 00:00:00.944438400   \n",
       "417838 1970-01-01 00:00:00.946857600   \n",
       "\n",
       "                                                  Summary  \\\n",
       "138706                          EVERY book is educational   \n",
       "138683  This whole series is great way to spend time w...   \n",
       "417839                               Entertainingl Funny!   \n",
       "346055                            A modern day fairy tale   \n",
       "417838                                         FANTASTIC!   \n",
       "\n",
       "                                                     Text  \n",
       "138706  this witty little book makes my son laugh at l...  \n",
       "138683  I can remember seeing the show when it aired o...  \n",
       "417839  Beetlejuice is a well written movie ..... ever...  \n",
       "346055  A twist of rumplestiskin captured on film, sta...  \n",
       "417838  Beetlejuice is an excellent and funny movie. K...  "
      ]
     },
     "execution_count": 5,
     "metadata": {},
     "output_type": "execute_result"
    }
   ],
   "source": [
    "final['Time']=pd.to_datetime(final['Time'])\n",
    "final=final.sort_values(by='Time',ascending=True)\n",
    "final.head()"
   ]
  },
  {
   "cell_type": "code",
   "execution_count": 6,
   "metadata": {},
   "outputs": [],
   "source": [
    "final=final.iloc[:100000,:]"
   ]
  },
  {
   "cell_type": "code",
   "execution_count": 7,
   "metadata": {},
   "outputs": [],
   "source": [
    "final.Score=final.Score.apply(lambda x:1 if x=='positive' else 0)"
   ]
  },
  {
   "cell_type": "code",
   "execution_count": 8,
   "metadata": {},
   "outputs": [
    {
     "data": {
      "text/plain": [
       "(100000, 10)"
      ]
     },
     "execution_count": 8,
     "metadata": {},
     "output_type": "execute_result"
    }
   ],
   "source": [
    "final.shape"
   ]
  },
  {
   "cell_type": "markdown",
   "metadata": {},
   "source": [
    "# Text Preprocessing\n"
   ]
  },
  {
   "cell_type": "code",
   "execution_count": 9,
   "metadata": {},
   "outputs": [],
   "source": [
    "import nltk\n",
    "import re\n",
    "def clean_html(sent):\n",
    "    clean_text=re.sub(r\"[<*.?>]\",' ',sent)\n",
    "    return clean_text\n",
    "\n",
    "def clean_punc(sent):\n",
    "    cleaned = re.sub(r'[?|!|\\'|\"|#]',r'',sent)\n",
    "    cleaned = re.sub(r'[.|,|)|(|\\|/]',r' ',cleaned)\n",
    "    return  cleaned\n",
    "from nltk.corpus import stopwords\n",
    "stop=set(stopwords.words('english'))\n",
    "sno = nltk.stem.SnowballStemmer('english')"
   ]
  },
  {
   "cell_type": "code",
   "execution_count": 10,
   "metadata": {},
   "outputs": [
    {
     "name": "stderr",
     "output_type": "stream",
     "text": [
      "100%|████████████████████████████████████████████████████████████████████████| 100000/100000 [01:30<00:00, 1108.20it/s]\n"
     ]
    }
   ],
   "source": [
    "from tqdm import tqdm\n",
    "import os\n",
    "\n",
    "final_string=[]\n",
    "for i,sent in enumerate(tqdm(final.Text.values)):\n",
    "    filtered_sentence=[]\n",
    "    sent=clean_html(sent)\n",
    "    for w in sent.split():\n",
    "        for word in clean_punc(w).split():\n",
    "            if ((word.isalpha())&(len(word)>2)):\n",
    "                if word.lower() not in stop:\n",
    "                    s=(sno.stem(word.lower())).encode('utf-8')\n",
    "                    filtered_sentence.append(s)\n",
    "    string=b' '.join(filtered_sentence)\n",
    "    final_string.append(string)\n",
    "\n",
    "final['Cleaned_Text']=final_string\n",
    "final['Cleaned_Text']=final['Cleaned_Text'].str.decode('utf-8')"
   ]
  },
  {
   "cell_type": "code",
   "execution_count": 11,
   "metadata": {},
   "outputs": [
    {
     "name": "stderr",
     "output_type": "stream",
     "text": [
      "100%|███████████████████████████████████████████████████████████████████████| 100000/100000 [00:06<00:00, 15053.77it/s]\n"
     ]
    }
   ],
   "source": [
    "from tqdm import tqdm\n",
    "import os\n",
    "\n",
    "final_string=[]\n",
    "for i,sent in enumerate(tqdm(final.Summary.values)):\n",
    "    filtered_sentence=[]\n",
    "    sent=clean_html(sent)\n",
    "    for w in sent.split():\n",
    "        for word in clean_punc(w).split():\n",
    "            if ((word.isalpha())&(len(word)>2)):\n",
    "                if word.lower() not in stop:\n",
    "                    s=(sno.stem(word.lower())).encode('utf-8')\n",
    "                    filtered_sentence.append(s)\n",
    "    string=b' '.join(filtered_sentence)\n",
    "    final_string.append(string)\n",
    "\n",
    "final['Cleaned_Summary']=final_string\n",
    "final['Cleaned_Summary']=final['Cleaned_Summary'].str.decode('utf-8')"
   ]
  },
  {
   "cell_type": "markdown",
   "metadata": {},
   "source": [
    "# Time Based Splitting"
   ]
  },
  {
   "cell_type": "code",
   "execution_count": 13,
   "metadata": {},
   "outputs": [
    {
     "data": {
      "text/plain": [
       "1    87729\n",
       "0    12271\n",
       "Name: Score, dtype: int64"
      ]
     },
     "execution_count": 13,
     "metadata": {},
     "output_type": "execute_result"
    }
   ],
   "source": [
    "from sklearn.model_selection import train_test_split\n",
    "X_train_text,X_test_text,y_train,y_test=train_test_split(final.Cleaned_Text,final.Score,test_size=0.30,shuffle=False)\n",
    "X_train_summary,X_test_summary,y_train,y_test=train_test_split(final.Cleaned_Summary,final.Score,test_size=0.30,shuffle=False)\n",
    "\n",
    "final.Score.value_counts()"
   ]
  },
  {
   "cell_type": "markdown",
   "metadata": {},
   "source": [
    "#### As we can see Our Data is Highly Imbalanced Positive class is far more than Negative Class"
   ]
  },
  {
   "cell_type": "markdown",
   "metadata": {},
   "source": [
    "# Bag of Words Model"
   ]
  },
  {
   "cell_type": "code",
   "execution_count": 14,
   "metadata": {},
   "outputs": [],
   "source": [
    "from sklearn.feature_extraction.text import CountVectorizer\n",
    "# Creating BOW for Text Column\n",
    "cv_bow_text=CountVectorizer()\n",
    "bow_X_train_text=cv_bow_text.fit_transform(X_train_text.values)\n",
    "bow_X_test_text=cv_bow_text.transform(X_test_text.values)"
   ]
  },
  {
   "cell_type": "code",
   "execution_count": 15,
   "metadata": {},
   "outputs": [],
   "source": [
    "# Creating BOW for Summary Column\n",
    "cv_bow_summary=CountVectorizer(max_features=100,min_df=30)\n",
    "bow_X_train_summary=cv_bow_summary.fit_transform(X_train_summary.values)\n",
    "bow_X_test_summary=cv_bow_summary.transform(X_test_summary.values)"
   ]
  },
  {
   "cell_type": "code",
   "execution_count": 16,
   "metadata": {},
   "outputs": [],
   "source": [
    "from scipy.sparse import hstack\n",
    "\n",
    "bow_X_train=hstack([bow_X_train_text,bow_X_train_summary])\n",
    "bow_X_test=hstack([bow_X_test_text,bow_X_test_summary])"
   ]
  },
  {
   "cell_type": "code",
   "execution_count": 17,
   "metadata": {
    "collapsed": true
   },
   "outputs": [
    {
     "name": "stderr",
     "output_type": "stream",
     "text": [
      "C:\\Users\\SKS\\Anaconda3\\lib\\site-packages\\sklearn\\utils\\validation.py:444: DataConversionWarning: Data with input dtype int64 was converted to float64 by StandardScaler.\n",
      "  warnings.warn(msg, DataConversionWarning)\n",
      "C:\\Users\\SKS\\Anaconda3\\lib\\site-packages\\sklearn\\utils\\validation.py:444: DataConversionWarning: Data with input dtype int64 was converted to float64 by StandardScaler.\n",
      "  warnings.warn(msg, DataConversionWarning)\n",
      "C:\\Users\\SKS\\Anaconda3\\lib\\site-packages\\sklearn\\utils\\validation.py:444: DataConversionWarning: Data with input dtype int64 was converted to float64 by StandardScaler.\n",
      "  warnings.warn(msg, DataConversionWarning)\n"
     ]
    }
   ],
   "source": [
    "from sklearn.preprocessing import StandardScaler\n",
    "sc1=StandardScaler(with_mean=False)\n",
    "bow_X_train=sc1.fit_transform(bow_X_train)\n",
    "bow_X_test=sc1.transform(bow_X_test)"
   ]
  },
  {
   "cell_type": "markdown",
   "metadata": {},
   "source": [
    "# Logistic Regression with L2 Regularization"
   ]
  },
  {
   "cell_type": "code",
   "execution_count": 18,
   "metadata": {},
   "outputs": [],
   "source": [
    "from sklearn.model_selection import GridSearchCV\n",
    "from sklearn.linear_model import LogisticRegression"
   ]
  },
  {
   "cell_type": "code",
   "execution_count": 19,
   "metadata": {},
   "outputs": [],
   "source": [
    "tuned_parameters = [{'C': [10**-4, 10**-2, 10**0, 10**2, 10**4]}]"
   ]
  },
  {
   "cell_type": "code",
   "execution_count": 20,
   "metadata": {},
   "outputs": [
    {
     "name": "stdout",
     "output_type": "stream",
     "text": [
      "LogisticRegression(C=0.01, class_weight=None, dual=False, fit_intercept=True,\n",
      "          intercept_scaling=1, max_iter=100, multi_class='ovr', n_jobs=1,\n",
      "          penalty='l2', random_state=None, solver='liblinear', tol=0.0001,\n",
      "          verbose=0, warm_start=False)\n",
      "Training_ROC_AUC_Score- 0.905122090206\n",
      "Testing_ROC_AUC_Score- 0.908793559472\n"
     ]
    }
   ],
   "source": [
    "model = GridSearchCV(LogisticRegression(), tuned_parameters, scoring = 'roc_auc', cv=5)\n",
    "model.fit(bow_X_train, y_train)\n",
    "print(model.best_estimator_)\n",
    "print('Training_ROC_AUC_Score-',model.best_score_)\n",
    "print('Testing_ROC_AUC_Score-',model.score(bow_X_test, y_test))"
   ]
  },
  {
   "cell_type": "markdown",
   "metadata": {},
   "source": [
    "#### Optimal value of C is 0.01\n",
    "\n",
    "#### Testing ROC Score is 90.87%\n",
    "\n",
    "#### Training and Testing ROC Scores are nearly same so, model is doing good job"
   ]
  },
  {
   "cell_type": "markdown",
   "metadata": {},
   "source": [
    "### Accuracy Metrics "
   ]
  },
  {
   "cell_type": "code",
   "execution_count": 21,
   "metadata": {},
   "outputs": [],
   "source": [
    "from sklearn.metrics import accuracy_score,classification_report,confusion_matrix"
   ]
  },
  {
   "cell_type": "code",
   "execution_count": 22,
   "metadata": {},
   "outputs": [
    {
     "name": "stdout",
     "output_type": "stream",
     "text": [
      "Training Accuracy- 98.71571428571428%\n",
      "Testing Accuracy- 91.41666666666667%\n",
      "Training Error- 1.2842857142857156%\n",
      "Testing Error- 8.583333333333329%\n"
     ]
    }
   ],
   "source": [
    "classifier=LogisticRegression(C=0.01)\n",
    "classifier.fit(bow_X_train,y_train)\n",
    "pred_train=classifier.predict(bow_X_train)\n",
    "pred_test=classifier.predict(bow_X_test)\n",
    "accuracy_bow_train=accuracy_score(y_train,pred_train)*100\n",
    "accuracy_bow_test=accuracy_score(y_test,pred_test)*100\n",
    "print(\"Training Accuracy- {}%\".format(accuracy_bow_train))\n",
    "print(\"Testing Accuracy- {}%\".format(accuracy_bow_test))\n",
    "print(\"Training Error- {}%\".format(100-accuracy_bow_train))\n",
    "print(\"Testing Error- {}%\".format(100-accuracy_bow_test))"
   ]
  },
  {
   "cell_type": "markdown",
   "metadata": {},
   "source": [
    "#### As both Training and Testing Error are low We can say that Our Model is doing Fine \n",
    "\n",
    "#### But we can't rely on simple Accuracy as our data is highly Imabalaced\n",
    "\n",
    "#### Accuracy for Test data is 91.41%"
   ]
  },
  {
   "cell_type": "markdown",
   "metadata": {},
   "source": [
    "### Classification Report "
   ]
  },
  {
   "cell_type": "code",
   "execution_count": 23,
   "metadata": {},
   "outputs": [
    {
     "name": "stdout",
     "output_type": "stream",
     "text": [
      "             precision    recall  f1-score   support\n",
      "\n",
      "          0       0.71      0.63      0.67      4103\n",
      "          1       0.94      0.96      0.95     25897\n",
      "\n",
      "avg / total       0.91      0.91      0.91     30000\n",
      "\n"
     ]
    }
   ],
   "source": [
    "print(classification_report(y_test,pred_test))"
   ]
  },
  {
   "cell_type": "markdown",
   "metadata": {},
   "source": [
    "#### For Negative Reviews Recall is 0.63 or 63% which means out of all Actual Negative Points we are just predicting 63% of negative correctly which is bad while in Positive Reviews we are predicting 96% of Reviews as Positive out of all Actual Positive Reviews\n",
    "\n",
    "#### F1 Score for Negative Review(0) is also low as compared to Positive Review(1)"
   ]
  },
  {
   "cell_type": "markdown",
   "metadata": {},
   "source": [
    "### Confusion Matrix"
   ]
  },
  {
   "cell_type": "code",
   "execution_count": 24,
   "metadata": {},
   "outputs": [
    {
     "data": {
      "image/png": "[encoded data removed]",
      "text/plain": [
       "<Figure size 432x288 with 2 Axes>"
      ]
     },
     "metadata": {},
     "output_type": "display_data"
    }
   ],
   "source": [
    "from sklearn.metrics import confusion_matrix,roc_curve\n",
    "df_cm = pd.DataFrame(confusion_matrix(y_train,pred_train), [\"Negative\", \"Positive\"],[\"Negative\", \"Positive\"],dtype=int)\n",
    "sns.set(font_scale=1.4)\n",
    "sns.heatmap(df_cm, annot=True,annot_kws={\"size\": 16}, fmt='g')\n",
    "plt.title('Confusion Matrix for Training Data ')\n",
    "plt.show()"
   ]
  },
  {
   "cell_type": "code",
   "execution_count": 25,
   "metadata": {},
   "outputs": [
    {
     "data": {
      "image/png": "[encoded data removed]",
      "text/plain": [
       "<Figure size 432x288 with 2 Axes>"
      ]
     },
     "metadata": {},
     "output_type": "display_data"
    }
   ],
   "source": [
    "from sklearn.metrics import confusion_matrix\n",
    "df_cm = pd.DataFrame(confusion_matrix(y_test,pred_test), [\"Negative\", \"Positive\"],[\"Negative\", \"Positive\"],dtype=int)\n",
    "sns.set(font_scale=1.4)\n",
    "sns.heatmap(df_cm, annot=True,annot_kws={\"size\": 16}, fmt='g')\n",
    "plt.title('Confusion Matrix for Testing Data ')\n",
    "plt.show()"
   ]
  },
  {
   "cell_type": "markdown",
   "metadata": {},
   "source": [
    "#### From Confusion Matrix We can see that we are predicting lot of negative reviews as positive 1538 negative reviews are predicted as positive"
   ]
  },
  {
   "cell_type": "code",
   "execution_count": 26,
   "metadata": {},
   "outputs": [
    {
     "name": "stdout",
     "output_type": "stream",
     "text": [
      "TPR- 0.9417380104553376\n",
      "FPR- 0.2878956135480289\n",
      "TNR- 0.7121043864519712\n",
      "FNR- 0.058261989544662475\n"
     ]
    }
   ],
   "source": [
    "TN,FN,FP,TP = confusion_matrix(y_test, pred_test).ravel()\n",
    "\n",
    "TPR = TP/(FN + TP)\n",
    "\n",
    "FPR = FP/(TN + FP)\n",
    "\n",
    "TNR = TN/(TN + FP)\n",
    "\n",
    "FNR = FN/(FN + TP)\n",
    "\n",
    "print(\"TPR- {}\".format(TPR))\n",
    "print(\"FPR- {}\".format(FPR))\n",
    "print(\"TNR- {}\".format(TNR))\n",
    "print(\"FNR- {}\".format(FNR))"
   ]
  },
  {
   "cell_type": "markdown",
   "metadata": {},
   "source": [
    "### ROC AUC "
   ]
  },
  {
   "cell_type": "code",
   "execution_count": 27,
   "metadata": {},
   "outputs": [
    {
     "data": {
      "image/png": "[encoded data removed]",
      "text/plain": [
       "<Figure size 432x288 with 1 Axes>"
      ]
     },
     "metadata": {},
     "output_type": "display_data"
    }
   ],
   "source": [
    "fpr, tpr,_=roc_curve(pred_train,y_train,drop_intermediate=False)\n",
    "\n",
    "import matplotlib.pyplot as plt\n",
    "plt.figure()\n",
    "\n",
    "plt.plot(fpr, tpr, color='red',\n",
    " lw=2, label='ROC curve')\n",
    "\n",
    "plt.plot([0, 1], [0, 1], color='blue', lw=2, linestyle='--')\n",
    "\n",
    "plt.xlabel('FPR')\n",
    "plt.ylabel('TPR')\n",
    "plt.title('ROC curve for Training Data')\n",
    "plt.show()"
   ]
  },
  {
   "cell_type": "code",
   "execution_count": 57,
   "metadata": {},
   "outputs": [
    {
     "data": {
      "image/png": "[encoded data removed]",
      "text/plain": [
       "<Figure size 432x288 with 1 Axes>"
      ]
     },
     "metadata": {},
     "output_type": "display_data"
    }
   ],
   "source": [
    "fpr, tpr,_=roc_curve(pred_test,y_test,drop_intermediate=False)\n",
    "\n",
    "import matplotlib.pyplot as plt\n",
    "plt.figure()\n",
    "\n",
    "plt.plot(fpr, tpr, color='red',\n",
    " lw=2, label='ROC curve')\n",
    "\n",
    "plt.plot([0, 1], [0, 1], color='blue', lw=2, linestyle='--')\n",
    "\n",
    "plt.xlabel('FPR')\n",
    "plt.ylabel('TPR')\n",
    "plt.title('ROC curve for Testing Data')\n",
    "plt.show()"
   ]
  },
  {
   "cell_type": "markdown",
   "metadata": {},
   "source": [
    "# Perbutation Test by Percentile"
   ]
  },
  {
   "cell_type": "code",
   "execution_count": 29,
   "metadata": {},
   "outputs": [],
   "source": [
    "w = classifier.coef_ #Weights of the classifier with original Data"
   ]
  },
  {
   "cell_type": "code",
   "execution_count": 30,
   "metadata": {},
   "outputs": [],
   "source": [
    "import copy\n",
    "bow_X_train_new=copy.deepcopy(bow_X_train)"
   ]
  },
  {
   "cell_type": "code",
   "execution_count": 31,
   "metadata": {},
   "outputs": [],
   "source": [
    "e=np.random.normal(0,0.001)"
   ]
  },
  {
   "cell_type": "code",
   "execution_count": 32,
   "metadata": {},
   "outputs": [],
   "source": [
    "bow_X_train_new.data=bow_X_train_new.data+e"
   ]
  },
  {
   "cell_type": "code",
   "execution_count": 33,
   "metadata": {},
   "outputs": [],
   "source": [
    "classifier_new=LogisticRegression(C=0.01)"
   ]
  },
  {
   "cell_type": "code",
   "execution_count": 34,
   "metadata": {},
   "outputs": [
    {
     "data": {
      "text/plain": [
       "LogisticRegression(C=0.01, class_weight=None, dual=False, fit_intercept=True,\n",
       "          intercept_scaling=1, max_iter=100, multi_class='ovr', n_jobs=1,\n",
       "          penalty='l2', random_state=None, solver='liblinear', tol=0.0001,\n",
       "          verbose=0, warm_start=False)"
      ]
     },
     "execution_count": 34,
     "metadata": {},
     "output_type": "execute_result"
    }
   ],
   "source": [
    "classifier_new.fit(bow_X_train_new,y_train)"
   ]
  },
  {
   "cell_type": "code",
   "execution_count": 35,
   "metadata": {},
   "outputs": [],
   "source": [
    "w_new= classifier_new.coef_ #Weights of the classifier after adding Noise"
   ]
  },
  {
   "cell_type": "code",
   "execution_count": 36,
   "metadata": {},
   "outputs": [],
   "source": [
    "w=w+10**-6\n",
    "w_new=w_new+10**-6"
   ]
  },
  {
   "cell_type": "code",
   "execution_count": 37,
   "metadata": {},
   "outputs": [],
   "source": [
    "weight_difference=abs((w-w_new)/w)*100"
   ]
  },
  {
   "cell_type": "code",
   "execution_count": 38,
   "metadata": {},
   "outputs": [
    {
     "data": {
      "text/plain": [
       "array([[ 0.0052316 ,  0.00159869,  0.00862919, ...,  0.0029575 ,\n",
       "         0.00257324,  0.00183551]])"
      ]
     },
     "execution_count": 38,
     "metadata": {},
     "output_type": "execute_result"
    }
   ],
   "source": [
    "weight_difference"
   ]
  },
  {
   "cell_type": "code",
   "execution_count": 39,
   "metadata": {},
   "outputs": [
    {
     "name": "stdout",
     "output_type": "stream",
     "text": [
      "10 Percentile- 0.00142338664405\n",
      "20 Percentile- 0.00317638402326\n",
      "50 Percentile- 0.0111629746077\n",
      "80 Percentile- 0.0383515056002\n",
      "90 Percentile- 0.0744772868421\n",
      "95 Percentile- 0.160134162406\n",
      "98 Percentile- 0.549135618117\n",
      "99 Percentile- 1.7882999241\n",
      "99.1 Percentile- 1.96861807487\n",
      "99.2 Percentile- 2.58488681291\n",
      "99.3 Percentile- 3.89932279792\n",
      "99.4 Percentile- 28.9151760867\n",
      "99.5 Percentile- 28.9151760867\n",
      "99.6 Percentile- 96.8348259457\n",
      "99.7 Percentile- 124.524166468\n",
      "99.8 Percentile- 162.529672272\n",
      "99.9 Percentile- 370.663963779\n",
      "100 Percentile- 634507.853304\n"
     ]
    }
   ],
   "source": [
    "print('10 Percentile-',np.percentile(weight_difference,10))  \n",
    "print('20 Percentile-',np.percentile(weight_difference,20))   \n",
    "print('50 Percentile-',np.percentile(weight_difference,50))   \n",
    "print('80 Percentile-',np.percentile(weight_difference,80))   \n",
    "print('90 Percentile-',np.percentile(weight_difference,90))  \n",
    "print('95 Percentile-',np.percentile(weight_difference,95)) \n",
    "print('98 Percentile-',np.percentile(weight_difference,98))  \n",
    "print('99 Percentile-',np.percentile(weight_difference,99))\n",
    "print('99.1 Percentile-',np.percentile(weight_difference,99.1))\n",
    "print('99.2 Percentile-',np.percentile(weight_difference,99.2)) \n",
    "print('99.3 Percentile-',np.percentile(weight_difference,99.3))\n",
    "print('99.4 Percentile-',np.percentile(weight_difference,99.4)) \n",
    "print('99.5 Percentile-',np.percentile(weight_difference,99.5))\n",
    "print('99.6 Percentile-',np.percentile(weight_difference,99.6))\n",
    "print('99.7 Percentile-',np.percentile(weight_difference,99.7))\n",
    "print('99.8 Percentile-',np.percentile(weight_difference,99.8)) \n",
    "print('99.9 Percentile-',np.percentile(weight_difference,99.9))\n",
    "print('100 Percentile-',np.percentile(weight_difference,100)) "
   ]
  },
  {
   "cell_type": "code",
   "execution_count": 48,
   "metadata": {},
   "outputs": [
    {
     "data": {
      "text/plain": [
       "31479"
      ]
     },
     "execution_count": 48,
     "metadata": {},
     "output_type": "execute_result"
    }
   ],
   "source": [
    "bow_features_text =cv_bow_text.get_feature_names()\n",
    "bow_features_summary =cv_bow_summary.get_feature_names()\n",
    "bow_features=bow_features_text+bow_features_summary\n",
    "len(bow_features)"
   ]
  },
  {
   "cell_type": "code",
   "execution_count": 41,
   "metadata": {},
   "outputs": [],
   "source": [
    "index_colliner=np.where(weight_difference>28.9)[1]"
   ]
  },
  {
   "cell_type": "code",
   "execution_count": 42,
   "metadata": {},
   "outputs": [
    {
     "name": "stdout",
     "output_type": "stream",
     "text": [
      "['acidolphilus', 'alanin', 'apex', 'ardor', 'arginin', 'aryl', 'bangladesh', 'beguil', 'bettuzzi', 'bifidobacgterium', 'bifidobacterium', 'biotin', 'brazen', 'brooklin', 'burgeon', 'burma', 'candlefish', 'cartlidg', 'cartlig', 'cellular', 'cervic', 'chaperon', 'chelat', 'chiap', 'christin', 'clair', 'colonoscopi', 'colposcopi', 'complicit', 'condensor', 'cooconut', 'counten', 'cowpi', 'curser', 'curtiss', 'cypress', 'cystin', 'dairymen', 'dairyperson', 'dairywomen', 'decenc', 'derang', 'diptheria', 'disarm', 'dsm', 'edam', 'epigallocatechingal', 'esophag', 'etruria', 'evermor', 'expector', 'experns', 'farmhand', 'fbop', 'fbopf', 'fleshier', 'fop', 'ftgfop', 'gale', 'gamma', 'garllic', 'gasiewicz', 'gbop', 'gfbop', 'gfop', 'glycin', 'gonif', 'haida', 'heedless', 'helpo', 'herceptin', 'histidin', 'hpv', 'huangshan', 'icebox', 'incess', 'inhomogen', 'inositol', 'intraepitheli', 'jaunti', 'kandi', 'kwakiutl', 'kyushu', 'laidlaw', 'lamington', 'laminin', 'leon', 'lifebit', 'liquamen', 'loami', 'machineri', 'maleskey', 'mammogram', 'mannerless', 'mantel', 'maofeng', 'mcg', 'mclarti', 'medihoney', 'mepal', 'methionin', 'mgo', 'mien', 'moh', 'molan', 'monocl', 'montepulciano', 'monteverdi', 'myasthenia', 'myeloma', 'narciss', 'nay', 'nebul', 'neoplasia', 'newpap', 'ngapi', 'ngredient', 'nuoc', 'oer', 'offhand', 'oma', 'onboard', 'outlin', 'ovarian', 'overtook', 'palermo', 'papilloma', 'paralzi', 'pati', 'phenylalanin', 'pla', 'ponc', 'praiseworthi', 'prejudg', 'presev', 'prev', 'prik', 'prolin', 'promiscu', 'prostatectomi', 'psa', 'quoth', 'rapport', 'roberto', 'rochest', 'russert', 'sauna', 'scenic', 'schnere', 'serin', 'sftgfop', 'shelnutt', 'slideshow', 'slugger', 'sob', 'stemwar', 'straightway', 'stud', 'stupefi', 'summerglow', 'sup', 'surnam', 'tagalog', 'tamoxifen', 'testimon', 'tgbop', 'tgfbop', 'tgfop', 'thereat', 'thermophilum', 'threonin', 'throb', 'tianfang', 'tlingit', 'tripper', 'tryptophan', 'tumour', 'tyrosin', 'uncar', 'uncouth', 'undergradu', 'unsung', 'vegf', 'velcad', 'vertabra', 'waikato', 'warner', 'webmd', 'westlak', 'whelp', 'woodgrain']\n"
     ]
    }
   ],
   "source": [
    "print([bow_features[i] for i in index_colliner])"
   ]
  },
  {
   "cell_type": "markdown",
   "metadata": {},
   "source": [
    "# Perbutation Test by Elbow Method"
   ]
  },
  {
   "cell_type": "code",
   "execution_count": 43,
   "metadata": {},
   "outputs": [],
   "source": [
    "per_change=list(range(1,101))"
   ]
  },
  {
   "cell_type": "code",
   "execution_count": 44,
   "metadata": {},
   "outputs": [],
   "source": [
    "features_collinear=[]"
   ]
  },
  {
   "cell_type": "code",
   "execution_count": 45,
   "metadata": {},
   "outputs": [],
   "source": [
    "for i in per_change:\n",
    "    features_collinear.append(np.where(weight_difference>i)[1].size)"
   ]
  },
  {
   "cell_type": "code",
   "execution_count": 46,
   "metadata": {},
   "outputs": [
    {
     "data": {
      "text/plain": [
       "Text(0,0.5,'Collinear_Feature')"
      ]
     },
     "execution_count": 46,
     "metadata": {},
     "output_type": "execute_result"
    },
    {
     "data": {
      "image/png": "[encoded data removed]",
      "text/plain": [
       "<Figure size 432x288 with 1 Axes>"
      ]
     },
     "metadata": {},
     "output_type": "display_data"
    }
   ],
   "source": [
    "plt.plot(per_change,features_collinear)\n",
    "plt.xlabel('Percentage_Change')\n",
    "plt.ylabel('Collinear_Feature')"
   ]
  },
  {
   "cell_type": "markdown",
   "metadata": {},
   "source": [
    "#### Change in Percentage near 29% so we choose 29% as threshold same as we got from Percentile Method"
   ]
  },
  {
   "cell_type": "code",
   "execution_count": 49,
   "metadata": {},
   "outputs": [],
   "source": [
    "index_colliner=np.where(weight_difference>29)[1]"
   ]
  },
  {
   "cell_type": "code",
   "execution_count": 50,
   "metadata": {},
   "outputs": [
    {
     "name": "stdout",
     "output_type": "stream",
     "text": [
      "['acidolphilus', 'alanin', 'apex', 'ardor', 'arginin', 'bangladesh', 'beguil', 'bifidobacgterium', 'bifidobacterium', 'biotin', 'brazen', 'brooklin', 'burgeon', 'burma', 'candlefish', 'cartlidg', 'cartlig', 'cellular', 'cervic', 'chelat', 'chiap', 'christin', 'complicit', 'condensor', 'cooconut', 'counten', 'cowpi', 'curser', 'curtiss', 'cypress', 'cystin', 'dairymen', 'dairyperson', 'dairywomen', 'decenc', 'derang', 'diptheria', 'disarm', 'edam', 'esophag', 'etruria', 'evermor', 'expector', 'experns', 'farmhand', 'fbop', 'fbopf', 'fleshier', 'fop', 'ftgfop', 'gale', 'gamma', 'garllic', 'gbop', 'gfbop', 'gfop', 'glycin', 'gonif', 'haida', 'heedless', 'helpo', 'histidin', 'huangshan', 'icebox', 'incess', 'inhomogen', 'inositol', 'jaunti', 'kandi', 'kwakiutl', 'laidlaw', 'lamington', 'leon', 'lifebit', 'liquamen', 'loami', 'machineri', 'mannerless', 'maofeng', 'mcg', 'medihoney', 'mepal', 'methionin', 'mgo', 'mien', 'moh', 'molan', 'monocl', 'montepulciano', 'monteverdi', 'myasthenia', 'narciss', 'nay', 'nebul', 'newpap', 'ngapi', 'ngredient', 'nuoc', 'oer', 'offhand', 'oma', 'onboard', 'outlin', 'overtook', 'paralzi', 'pati', 'phenylalanin', 'pla', 'ponc', 'praiseworthi', 'prejudg', 'presev', 'prik', 'prolin', 'quoth', 'rapport', 'roberto', 'rochest', 'russert', 'sauna', 'scenic', 'schnere', 'serin', 'sftgfop', 'shelnutt', 'slugger', 'sob', 'stemwar', 'straightway', 'stud', 'stupefi', 'summerglow', 'sup', 'surnam', 'tagalog', 'testimon', 'tgbop', 'tgfbop', 'tgfop', 'thereat', 'thermophilum', 'threonin', 'throb', 'tianfang', 'tlingit', 'tripper', 'tryptophan', 'tyrosin', 'uncar', 'uncouth', 'undergradu', 'unsung', 'vertabra', 'waikato', 'warner', 'whelp', 'woodgrain']\n"
     ]
    }
   ],
   "source": [
    "print([bow_features[i] for i in index_colliner])"
   ]
  },
  {
   "cell_type": "markdown",
   "metadata": {},
   "source": [
    "# Sparsity Check"
   ]
  },
  {
   "cell_type": "code",
   "execution_count": 51,
   "metadata": {},
   "outputs": [
    {
     "data": {
      "text/plain": [
       "9003"
      ]
     },
     "execution_count": 51,
     "metadata": {},
     "output_type": "execute_result"
    }
   ],
   "source": [
    "classifier_l2=LogisticRegression(C=0.1,penalty='l1')\n",
    "classifier_l2.fit(bow_X_train,y_train)\n",
    "w=classifier_l2.coef_\n",
    "np.count_nonzero(w)"
   ]
  },
  {
   "cell_type": "code",
   "execution_count": 52,
   "metadata": {},
   "outputs": [
    {
     "data": {
      "text/plain": [
       "11157"
      ]
     },
     "execution_count": 52,
     "metadata": {},
     "output_type": "execute_result"
    }
   ],
   "source": [
    "classifier_l2=LogisticRegression(C=1,penalty='l1')\n",
    "classifier_l2.fit(bow_X_train,y_train)\n",
    "w=classifier_l2.coef_\n",
    "np.count_nonzero(w)"
   ]
  },
  {
   "cell_type": "code",
   "execution_count": 53,
   "metadata": {},
   "outputs": [
    {
     "data": {
      "text/plain": [
       "14110"
      ]
     },
     "execution_count": 53,
     "metadata": {},
     "output_type": "execute_result"
    }
   ],
   "source": [
    "classifier_l2=LogisticRegression(C=10,penalty='l1')\n",
    "classifier_l2.fit(bow_X_train,y_train)\n",
    "w=classifier_l2.coef_\n",
    "np.count_nonzero(w)"
   ]
  },
  {
   "cell_type": "code",
   "execution_count": 54,
   "metadata": {},
   "outputs": [
    {
     "data": {
      "text/plain": [
       "14967"
      ]
     },
     "execution_count": 54,
     "metadata": {},
     "output_type": "execute_result"
    }
   ],
   "source": [
    "classifier_l2=LogisticRegression(C=100,penalty='l1')\n",
    "classifier_l2.fit(bow_X_train,y_train)\n",
    "w=classifier_l2.coef_\n",
    "np.count_nonzero(w)"
   ]
  },
  {
   "cell_type": "code",
   "execution_count": 55,
   "metadata": {},
   "outputs": [
    {
     "data": {
      "text/plain": [
       "23364"
      ]
     },
     "execution_count": 55,
     "metadata": {},
     "output_type": "execute_result"
    }
   ],
   "source": [
    "classifier_l2=LogisticRegression(C=1000,penalty='l1')\n",
    "classifier_l2.fit(bow_X_train,y_train)\n",
    "w=classifier_l2.coef_\n",
    "np.count_nonzero(w)"
   ]
  },
  {
   "cell_type": "markdown",
   "metadata": {},
   "source": [
    "#### As we can see as C increases lambda decreases and Sparsity decreases as number of nonzero Weights are Increasing "
   ]
  },
  {
   "cell_type": "markdown",
   "metadata": {},
   "source": [
    "### Important Features"
   ]
  },
  {
   "cell_type": "code",
   "execution_count": 58,
   "metadata": {},
   "outputs": [
    {
     "data": {
      "text/html": [
       "<div>\n",
       "<style scoped>\n",
       "    .dataframe tbody tr th:only-of-type {\n",
       "        vertical-align: middle;\n",
       "    }\n",
       "\n",
       "    .dataframe tbody tr th {\n",
       "        vertical-align: top;\n",
       "    }\n",
       "\n",
       "    .dataframe thead th {\n",
       "        text-align: right;\n",
       "    }\n",
       "</style>\n",
       "<table border=\"1\" class=\"dataframe\">\n",
       "  <thead>\n",
       "    <tr style=\"text-align: right;\">\n",
       "      <th></th>\n",
       "      <th>0</th>\n",
       "    </tr>\n",
       "  </thead>\n",
       "  <tbody>\n",
       "    <tr>\n",
       "      <th>aaa</th>\n",
       "      <td>-4.521972e-10</td>\n",
       "    </tr>\n",
       "    <tr>\n",
       "      <th>aaaaaaaaagghh</th>\n",
       "      <td>2.277853e-03</td>\n",
       "    </tr>\n",
       "    <tr>\n",
       "      <th>aaaaah</th>\n",
       "      <td>6.975769e-03</td>\n",
       "    </tr>\n",
       "    <tr>\n",
       "      <th>aaaaahhhhhhhhhhhhhhhh</th>\n",
       "      <td>2.216436e-07</td>\n",
       "    </tr>\n",
       "    <tr>\n",
       "      <th>aaaah</th>\n",
       "      <td>-1.178140e-09</td>\n",
       "    </tr>\n",
       "  </tbody>\n",
       "</table>\n",
       "</div>"
      ],
      "text/plain": [
       "                                  0\n",
       "aaa                   -4.521972e-10\n",
       "aaaaaaaaagghh          2.277853e-03\n",
       "aaaaah                 6.975769e-03\n",
       "aaaaahhhhhhhhhhhhhhhh  2.216436e-07\n",
       "aaaah                 -1.178140e-09"
      ]
     },
     "execution_count": 58,
     "metadata": {},
     "output_type": "execute_result"
    }
   ],
   "source": [
    "bow_features_text =cv_bow_text.get_feature_names()\n",
    "bow_features_summary =cv_bow_summary.get_feature_names()\n",
    "bow_features=bow_features_text+bow_features_summary\n",
    "weights= classifier.coef_\n",
    "feature_weights = pd.DataFrame(weights, columns = bow_features)\n",
    "feature_weights=feature_weights.T\n",
    "feature_weights.head()"
   ]
  },
  {
   "cell_type": "code",
   "execution_count": 59,
   "metadata": {},
   "outputs": [
    {
     "data": {
      "text/plain": [
       "(31479, 1)"
      ]
     },
     "execution_count": 59,
     "metadata": {},
     "output_type": "execute_result"
    }
   ],
   "source": [
    "feature_weights.shape"
   ]
  },
  {
   "cell_type": "markdown",
   "metadata": {},
   "source": [
    "#### Important Features for Negative Review"
   ]
  },
  {
   "cell_type": "code",
   "execution_count": 60,
   "metadata": {},
   "outputs": [
    {
     "data": {
      "text/plain": [
       "disappoint   -0.341746\n",
       "worst        -0.334126\n",
       "terribl      -0.245462\n",
       "stale        -0.237329\n",
       "unfortun     -0.230405\n",
       "aw           -0.230035\n",
       "disappoint   -0.217091\n",
       "tast         -0.201360\n",
       "horribl      -0.199995\n",
       "bland        -0.194583\n",
       "Name: 0, dtype: float64"
      ]
     },
     "execution_count": 60,
     "metadata": {},
     "output_type": "execute_result"
    }
   ],
   "source": [
    "feature_weights[0].sort_values(ascending = True)[0:10]"
   ]
  },
  {
   "cell_type": "markdown",
   "metadata": {},
   "source": [
    "#### Important Features for Positive Review"
   ]
  },
  {
   "cell_type": "code",
   "execution_count": 61,
   "metadata": {},
   "outputs": [
    {
     "data": {
      "text/plain": [
       "great     0.708729\n",
       "great     0.676909\n",
       "best      0.587950\n",
       "best      0.530476\n",
       "love      0.527170\n",
       "love      0.490341\n",
       "excel     0.465414\n",
       "delici    0.459678\n",
       "yummi     0.439738\n",
       "good      0.413213\n",
       "Name: 0, dtype: float64"
      ]
     },
     "execution_count": 61,
     "metadata": {},
     "output_type": "execute_result"
    }
   ],
   "source": [
    "feature_weights[0].sort_values(ascending = False)[0:10]"
   ]
  },
  {
   "cell_type": "markdown",
   "metadata": {},
   "source": [
    "# TF-IDF Model"
   ]
  },
  {
   "cell_type": "code",
   "execution_count": 62,
   "metadata": {},
   "outputs": [],
   "source": [
    "from sklearn.feature_extraction.text import TfidfVectorizer,TfidfTransformer\n",
    "#TFIDF for Text \n",
    "tfidf_vect_text=TfidfVectorizer()\n",
    "tfidf_X_train_text=tfidf_vect_text.fit_transform(X_train_text.values)\n",
    "tfidf_X_test_text=tfidf_vect_text.transform(X_test_text.values)\n",
    "\n",
    "#TFIDF for Summary\n",
    "tfidf_vect_summary=TfidfVectorizer(max_features=100)\n",
    "tfidf_X_train_summary=tfidf_vect_summary.fit_transform(X_train_summary.values)\n",
    "tfidf_X_test_summary=tfidf_vect_summary.transform(X_test_summary.values)\n",
    "\n",
    "from scipy.sparse import hstack\n",
    "\n",
    "tfidf_X_train=hstack([tfidf_X_train_text,tfidf_X_train_summary])\n",
    "tfidf_X_test=hstack([tfidf_X_test_text,tfidf_X_test_summary])\n",
    "\n",
    "from sklearn.preprocessing import StandardScaler\n",
    "sc1=StandardScaler(with_mean=False)\n",
    "tfidf_X_train=sc1.fit_transform(tfidf_X_train)\n",
    "tfidf_X_test=sc1.transform(tfidf_X_test)"
   ]
  },
  {
   "cell_type": "code",
   "execution_count": null,
   "metadata": {},
   "outputs": [],
   "source": []
  },
  {
   "cell_type": "markdown",
   "metadata": {},
   "source": [
    "# Logistic Regression with L2 Regularization"
   ]
  },
  {
   "cell_type": "code",
   "execution_count": 63,
   "metadata": {},
   "outputs": [],
   "source": [
    "tuned_parameters = [{'C': [10**-4, 10**-2, 10**0, 10**2, 10**4]}]"
   ]
  },
  {
   "cell_type": "code",
   "execution_count": 104,
   "metadata": {},
   "outputs": [
    {
     "name": "stdout",
     "output_type": "stream",
     "text": [
      "LogisticRegression(C=0.0001, class_weight=None, dual=False,\n",
      "          fit_intercept=True, intercept_scaling=1, max_iter=100,\n",
      "          multi_class='ovr', n_jobs=1, penalty='l2', random_state=None,\n",
      "          solver='liblinear', tol=0.0001, verbose=0, warm_start=False)\n",
      "Training_ROC_AUC_Score- 0.927184266348\n",
      "Testing_ROC_AUC_Score- 0.932014273045\n"
     ]
    }
   ],
   "source": [
    "model = GridSearchCV(LogisticRegression(), tuned_parameters, scoring = 'roc_auc', cv=5)\n",
    "model.fit(tfidf_X_train, y_train)\n",
    "\n",
    "print(model.best_estimator_)\n",
    "print('Training_ROC_AUC_Score-',model.best_score_)\n",
    "print('Testing_ROC_AUC_Score-',model.score(tfidf_X_test, y_test))\n"
   ]
  },
  {
   "cell_type": "markdown",
   "metadata": {},
   "source": [
    "#### Optimal Value of C is 0.0001\n",
    "\n",
    "#### Testing ROC Score is 93.20%\n",
    "\n",
    "#### Training and Testing ROC Scores are nearly same so, model is doing good job"
   ]
  },
  {
   "cell_type": "markdown",
   "metadata": {},
   "source": [
    "### Accuracy Metrics "
   ]
  },
  {
   "cell_type": "code",
   "execution_count": 105,
   "metadata": {},
   "outputs": [
    {
     "name": "stdout",
     "output_type": "stream",
     "text": [
      "Training Accuracy- 95.4557142857143%\n",
      "Testing Accuracy- 90.30333333333334%\n",
      "Training Error- 4.5442857142857065%\n",
      "Testing Error- 9.696666666666658%\n"
     ]
    }
   ],
   "source": [
    "classifier=model.best_estimator_\n",
    "classifier.fit(tfidf_X_train,y_train)\n",
    "pred_train=classifier.predict(tfidf_X_train)\n",
    "pred_test=classifier.predict(tfidf_X_test)\n",
    "accuracy_tfidf_train=accuracy_score(y_train,pred_train)*100\n",
    "accuracy_tfidf_test=accuracy_score(y_test,pred_test)*100\n",
    "print(\"Training Accuracy- {}%\".format(accuracy_tfidf_train))\n",
    "print(\"Testing Accuracy- {}%\".format(accuracy_tfidf_test))\n",
    "print(\"Training Error- {}%\".format(100-accuracy_tfidf_train))\n",
    "print(\"Testing Error- {}%\".format(100-accuracy_tfidf_test))\n"
   ]
  },
  {
   "cell_type": "markdown",
   "metadata": {},
   "source": [
    "#### As both Training and Testing Error are low We can say that Our Model is doing Fine \n",
    "\n",
    "#### But we can't rely on simple Accuracy as our data is highly Imabalaced\n",
    "\n",
    "#### Accuracy for Test data is 90.30%"
   ]
  },
  {
   "cell_type": "code",
   "execution_count": 106,
   "metadata": {},
   "outputs": [
    {
     "name": "stdout",
     "output_type": "stream",
     "text": [
      "             precision    recall  f1-score   support\n",
      "\n",
      "          0       0.83      0.37      0.51      4103\n",
      "          1       0.91      0.99      0.95     25897\n",
      "\n",
      "avg / total       0.90      0.90      0.89     30000\n",
      "\n"
     ]
    }
   ],
   "source": [
    "print(classification_report(y_test,pred_test))"
   ]
  },
  {
   "cell_type": "markdown",
   "metadata": {},
   "source": [
    "#### For Negative Reviews Recall is 0.37 or 37% which means out of all Actual Negative Points we are just predicting 13% of negative correctly which is bad while in Positive Reviews we are predicting 99% of Reviews as Positive out of all Actual Positive Reviews\n",
    "\n",
    "#### F1 Score for Negative Review(0) is also very low\n",
    "\n",
    "#### Model through TFIDF is predicting most of the Points as Positive reveiws as recall for negative review is very low"
   ]
  },
  {
   "cell_type": "markdown",
   "metadata": {},
   "source": [
    "### Confusion Matrix"
   ]
  },
  {
   "cell_type": "code",
   "execution_count": 107,
   "metadata": {},
   "outputs": [
    {
     "data": {
      "image/png": "[encoded data removed]",
      "text/plain": [
       "<Figure size 432x288 with 2 Axes>"
      ]
     },
     "metadata": {},
     "output_type": "display_data"
    }
   ],
   "source": [
    "from sklearn.metrics import confusion_matrix\n",
    "df_cm = pd.DataFrame(confusion_matrix(y_train,pred_train), [\"Negative\", \"Positive\"],[\"Negative\", \"Positive\"],dtype=int)\n",
    "sns.set(font_scale=1.4)\n",
    "sns.heatmap(df_cm, annot=True,annot_kws={\"size\": 16}, fmt='g')\n",
    "plt.title('Confusion Matrix for Training Data ')\n",
    "plt.show()"
   ]
  },
  {
   "cell_type": "markdown",
   "metadata": {},
   "source": [
    "#### For Training Data TFIDF model is doing a great job as True Negative and True Positives are very high"
   ]
  },
  {
   "cell_type": "code",
   "execution_count": 108,
   "metadata": {},
   "outputs": [
    {
     "data": {
      "image/png": "[encoded data removed]",
      "text/plain": [
       "<Figure size 432x288 with 2 Axes>"
      ]
     },
     "metadata": {},
     "output_type": "display_data"
    }
   ],
   "source": [
    "from sklearn.metrics import confusion_matrix\n",
    "df_cm = pd.DataFrame(confusion_matrix(y_test,pred_test), [\"Negative\", \"Positive\"],[\"Negative\", \"Positive\"],dtype=int)\n",
    "sns.set(font_scale=1.4)\n",
    "sns.heatmap(df_cm, annot=True,annot_kws={\"size\": 16}, fmt='g')\n",
    "plt.title('Confusion Matrix for Testing Data ')\n",
    "plt.show()"
   ]
  },
  {
   "cell_type": "markdown",
   "metadata": {},
   "source": [
    "#### From Confusion Matrix We can see that we are predicted more Negetive Reviews as Postive Reviews than Negative Reviews as Negative Reviews i.e. Out of 4098 Negative reviews we are predicting 2602 reviews as Positive so model from tfidf is predicing more false positives\n",
    "\n",
    "#### TFIDF Model is predicting more False Positive with respect to BOW Model"
   ]
  },
  {
   "cell_type": "code",
   "execution_count": 109,
   "metadata": {},
   "outputs": [
    {
     "name": "stdout",
     "output_type": "stream",
     "text": [
      "TPR-0.9077043132803633\n",
      "FPR-0.1698008849557522\n",
      "TNR-0.8301991150442478\n",
      "FNR-0.09229568671963678\n"
     ]
    }
   ],
   "source": [
    "TN,FN,FP,TP = confusion_matrix(y_test, pred_test).ravel()\n",
    "\n",
    "TPR = TP/(FN + TP)\n",
    "\n",
    "FPR = FP/(TN + FP)\n",
    "\n",
    "TNR = TN/(TN + FP)\n",
    "\n",
    "FNR = FN/(FN + TP)\n",
    "\n",
    "print(\"TPR-{}\".format(TPR))\n",
    "print(\"FPR-{}\".format(FPR))\n",
    "print(\"TNR-{}\".format(TNR))\n",
    "print(\"FNR-{}\".format(FNR))"
   ]
  },
  {
   "cell_type": "markdown",
   "metadata": {},
   "source": [
    "### ROC AUC "
   ]
  },
  {
   "cell_type": "code",
   "execution_count": 110,
   "metadata": {},
   "outputs": [
    {
     "data": {
      "image/png": "[encoded data removed]",
      "text/plain": [
       "<Figure size 432x288 with 1 Axes>"
      ]
     },
     "metadata": {},
     "output_type": "display_data"
    }
   ],
   "source": [
    "fpr, tpr,_=roc_curve(pred_train,y_train,drop_intermediate=False)\n",
    "\n",
    "import matplotlib.pyplot as plt\n",
    "plt.figure()\n",
    "\n",
    "plt.plot(fpr, tpr, color='red',\n",
    " lw=2, label='ROC curve')\n",
    "\n",
    "plt.plot([0, 1], [0, 1], color='blue', lw=2, linestyle='--')\n",
    "\n",
    "plt.xlabel('FPR')\n",
    "plt.ylabel('TPR')\n",
    "plt.title('ROC curve for Training Data')\n",
    "plt.show()"
   ]
  },
  {
   "cell_type": "code",
   "execution_count": 111,
   "metadata": {},
   "outputs": [
    {
     "data": {
      "image/png": "[encoded data removed]",
      "text/plain": [
       "<Figure size 432x288 with 1 Axes>"
      ]
     },
     "metadata": {},
     "output_type": "display_data"
    }
   ],
   "source": [
    "fpr, tpr,_=roc_curve(pred_test,y_test,drop_intermediate=False)\n",
    "\n",
    "import matplotlib.pyplot as plt\n",
    "plt.figure()\n",
    "\n",
    "plt.plot(fpr, tpr, color='red',\n",
    " lw=2, label='ROC curve')\n",
    "\n",
    "plt.plot([0, 1], [0, 1], color='blue', lw=2, linestyle='--')\n",
    "\n",
    "plt.xlabel('FPR')\n",
    "plt.ylabel('TPR')\n",
    "plt.title('ROC curve for Testing Data')\n",
    "plt.show()"
   ]
  },
  {
   "cell_type": "code",
   "execution_count": 112,
   "metadata": {},
   "outputs": [
    {
     "data": {
      "text/html": [
       "<div>\n",
       "<style scoped>\n",
       "    .dataframe tbody tr th:only-of-type {\n",
       "        vertical-align: middle;\n",
       "    }\n",
       "\n",
       "    .dataframe tbody tr th {\n",
       "        vertical-align: top;\n",
       "    }\n",
       "\n",
       "    .dataframe thead th {\n",
       "        text-align: right;\n",
       "    }\n",
       "</style>\n",
       "<table border=\"1\" class=\"dataframe\">\n",
       "  <thead>\n",
       "    <tr style=\"text-align: right;\">\n",
       "      <th></th>\n",
       "      <th>0</th>\n",
       "    </tr>\n",
       "  </thead>\n",
       "  <tbody>\n",
       "    <tr>\n",
       "      <th>aaa</th>\n",
       "      <td>0.000375</td>\n",
       "    </tr>\n",
       "    <tr>\n",
       "      <th>aaaaaaaaagghh</th>\n",
       "      <td>0.001149</td>\n",
       "    </tr>\n",
       "    <tr>\n",
       "      <th>aaaaah</th>\n",
       "      <td>0.001929</td>\n",
       "    </tr>\n",
       "    <tr>\n",
       "      <th>aaaaahhhhhhhhhhhhhhhh</th>\n",
       "      <td>0.000641</td>\n",
       "    </tr>\n",
       "    <tr>\n",
       "      <th>aaaah</th>\n",
       "      <td>0.000409</td>\n",
       "    </tr>\n",
       "  </tbody>\n",
       "</table>\n",
       "</div>"
      ],
      "text/plain": [
       "                              0\n",
       "aaa                    0.000375\n",
       "aaaaaaaaagghh          0.001149\n",
       "aaaaah                 0.001929\n",
       "aaaaahhhhhhhhhhhhhhhh  0.000641\n",
       "aaaah                  0.000409"
      ]
     },
     "execution_count": 112,
     "metadata": {},
     "output_type": "execute_result"
    }
   ],
   "source": [
    "tfidf_features_text =tfidf_vect_text.get_feature_names()\n",
    "tfidf_features_summary =tfidf_vect_summary.get_feature_names()\n",
    "tfidf_features=tfidf_features_text+tfidf_features_summary\n",
    "weights= classifier.coef_\n",
    "feature_weights = pd.DataFrame(weights, columns = tfidf_features)\n",
    "feature_weights=feature_weights.T\n",
    "feature_weights.head()"
   ]
  },
  {
   "cell_type": "markdown",
   "metadata": {},
   "source": [
    "#### Important Features for Negative Review"
   ]
  },
  {
   "cell_type": "code",
   "execution_count": 113,
   "metadata": {},
   "outputs": [
    {
     "data": {
      "text/plain": [
       "disappoint   -0.091298\n",
       "disappoint   -0.082809\n",
       "worst        -0.072214\n",
       "aw           -0.062702\n",
       "terribl      -0.062264\n",
       "horribl      -0.057186\n",
       "stale        -0.052704\n",
       "return       -0.051947\n",
       "wast         -0.050630\n",
       "bland        -0.050328\n",
       "Name: 0, dtype: float64"
      ]
     },
     "execution_count": 113,
     "metadata": {},
     "output_type": "execute_result"
    }
   ],
   "source": [
    "feature_weights[0].sort_values(ascending = True)[0:10]"
   ]
  },
  {
   "cell_type": "markdown",
   "metadata": {},
   "source": [
    "#### Important Features for Positive Review"
   ]
  },
  {
   "cell_type": "code",
   "execution_count": 114,
   "metadata": {},
   "outputs": [
    {
     "data": {
      "text/plain": [
       "great     0.151963\n",
       "love      0.129566\n",
       "great     0.120111\n",
       "best      0.108394\n",
       "good      0.102881\n",
       "best      0.093600\n",
       "delici    0.085832\n",
       "love      0.083290\n",
       "good      0.072863\n",
       "excel     0.072393\n",
       "Name: 0, dtype: float64"
      ]
     },
     "execution_count": 114,
     "metadata": {},
     "output_type": "execute_result"
    }
   ],
   "source": [
    "feature_weights[0].sort_values(ascending = False)[0:10]"
   ]
  },
  {
   "cell_type": "markdown",
   "metadata": {},
   "source": [
    "# Average Word2Vec Model"
   ]
  },
  {
   "cell_type": "code",
   "execution_count": 115,
   "metadata": {},
   "outputs": [
    {
     "name": "stderr",
     "output_type": "stream",
     "text": [
      "100%|███████████████████████████████████████████████████████████████████████████| 70000/70000 [01:42<00:00, 682.08it/s]\n",
      "100%|███████████████████████████████████████████████████████████████████████████| 30000/30000 [00:52<00:00, 571.18it/s]\n",
      "100%|█████████████████████████████████████████████████████████████████████████| 70000/70000 [00:03<00:00, 20135.74it/s]\n",
      "100%|█████████████████████████████████████████████████████████████████████████| 30000/30000 [00:01<00:00, 16978.88it/s]\n"
     ]
    }
   ],
   "source": [
    "from gensim.models import Word2Vec\n",
    "# Train Data for Text\n",
    "list_of_sent_train_text=[]\n",
    "for sent in X_train_text.values:\n",
    "    list_of_sent_train_text.append(sent.split())\n",
    "w2v_model_text=Word2Vec(list_of_sent_train_text,min_count=5,size=50, workers=4)\n",
    "w2v_words_text = list(w2v_model_text.wv.vocab)\n",
    "sent_vectors_train_text = []\n",
    "for sent in tqdm(list_of_sent_train_text): \n",
    "    sent_vec = np.zeros(50) \n",
    "    cnt_words =0\n",
    "    for word in sent:\n",
    "        if word in w2v_words_text:\n",
    "            vec = w2v_model_text.wv[word]\n",
    "            sent_vec += vec\n",
    "            cnt_words += 1\n",
    "    if cnt_words != 0:\n",
    "        sent_vec /= cnt_words\n",
    "    sent_vectors_train_text.append(sent_vec)\n",
    "\n",
    "# Test Data for Text\n",
    "list_of_sent_test_text=[]\n",
    "for sent in X_test_text.values:\n",
    "    list_of_sent_test_text.append(sent.split())\n",
    "sent_vectors_test_text = []\n",
    "for sent in tqdm(list_of_sent_test_text): \n",
    "    sent_vec = np.zeros(50) \n",
    "    cnt_words =0\n",
    "    for word in sent:\n",
    "        if word in w2v_words_text:\n",
    "            vec = w2v_model_text.wv[word]\n",
    "            sent_vec += vec\n",
    "            cnt_words += 1\n",
    "    if cnt_words != 0:\n",
    "        sent_vec /= cnt_words\n",
    "    sent_vectors_test_text.append(sent_vec) \n",
    "\n",
    "#Train data for Summary\n",
    "list_of_sent_train_summary=[]\n",
    "for sent in X_train_summary.values:\n",
    "    list_of_sent_train_summary.append(sent.split())\n",
    "w2v_model_summary=Word2Vec(list_of_sent_train_summary,min_count=5,size=50, workers=4)\n",
    "w2v_words_summary = list(w2v_model_summary.wv.vocab)\n",
    "sent_vectors_train_summary = []\n",
    "for sent in tqdm(list_of_sent_train_summary): \n",
    "    sent_vec = np.zeros(50) \n",
    "    cnt_words =0\n",
    "    for word in sent:\n",
    "        if word in w2v_words_summary:\n",
    "            vec = w2v_model_summary.wv[word]\n",
    "            sent_vec += vec\n",
    "            cnt_words += 1\n",
    "    if cnt_words != 0:\n",
    "        sent_vec /= cnt_words\n",
    "    sent_vectors_train_summary.append(sent_vec)\n",
    "\n",
    "#Test data for Summary\n",
    "list_of_sent_test_summary=[]\n",
    "for sent in X_test_summary.values:\n",
    "    list_of_sent_test_summary.append(sent.split())\n",
    "sent_vectors_test_summary = []\n",
    "for sent in tqdm(list_of_sent_test_summary): \n",
    "    sent_vec = np.zeros(50) \n",
    "    cnt_words =0\n",
    "    for word in sent:\n",
    "        if word in w2v_words_summary:\n",
    "            vec = w2v_model_summary.wv[word]\n",
    "            sent_vec += vec\n",
    "            cnt_words += 1\n",
    "    if cnt_words != 0:\n",
    "        sent_vec /= cnt_words\n",
    "    sent_vectors_test_summary.append(sent_vec) "
   ]
  },
  {
   "cell_type": "code",
   "execution_count": 116,
   "metadata": {},
   "outputs": [],
   "source": [
    "sent_vectors_train_text=np.array(sent_vectors_train_text)\n",
    "sent_vectors_test_text=np.array(sent_vectors_test_text)\n",
    "sent_vectors_train_summary=np.array(sent_vectors_train_summary)\n",
    "sent_vectors_test_summary=np.array(sent_vectors_test_summary)"
   ]
  },
  {
   "cell_type": "code",
   "execution_count": 117,
   "metadata": {},
   "outputs": [],
   "source": [
    "sent_vectors_train=np.hstack((sent_vectors_train_text,sent_vectors_train_summary))\n",
    "sent_vectors_test=np.hstack((sent_vectors_test_text,sent_vectors_test_summary))"
   ]
  },
  {
   "cell_type": "code",
   "execution_count": 118,
   "metadata": {},
   "outputs": [
    {
     "data": {
      "text/plain": [
       "(70000, 100)"
      ]
     },
     "execution_count": 118,
     "metadata": {},
     "output_type": "execute_result"
    }
   ],
   "source": [
    "sent_vectors_train.shape"
   ]
  },
  {
   "cell_type": "code",
   "execution_count": 119,
   "metadata": {},
   "outputs": [],
   "source": [
    "from sklearn.preprocessing import StandardScaler\n",
    "sc1=StandardScaler(with_mean=False)\n",
    "sent_vectors_train=sc1.fit_transform(sent_vectors_train)\n",
    "sent_vectors_test=sc1.transform(sent_vectors_test)"
   ]
  },
  {
   "cell_type": "markdown",
   "metadata": {},
   "source": [
    "# Logistic Regression with L2 Regularization"
   ]
  },
  {
   "cell_type": "code",
   "execution_count": 120,
   "metadata": {},
   "outputs": [],
   "source": [
    "tuned_parameters = [{'C': [10**-4, 10**-2, 10**0, 10**2, 10**4]}]"
   ]
  },
  {
   "cell_type": "code",
   "execution_count": 122,
   "metadata": {},
   "outputs": [
    {
     "name": "stdout",
     "output_type": "stream",
     "text": [
      "LogisticRegression(C=1, class_weight=None, dual=False, fit_intercept=True,\n",
      "          intercept_scaling=1, max_iter=100, multi_class='ovr', n_jobs=1,\n",
      "          penalty='l2', random_state=None, solver='liblinear', tol=0.0001,\n",
      "          verbose=0, warm_start=False)\n",
      "Training_ROC_AUC_Score- 0.915999276814\n",
      "Testing_ROC_AUC_Score- 0.922020295422\n"
     ]
    }
   ],
   "source": [
    "model = GridSearchCV(LogisticRegression(), tuned_parameters, scoring = 'roc_auc', cv=5)\n",
    "model.fit(sent_vectors_train, y_train)\n",
    "\n",
    "print(model.best_estimator_)\n",
    "print('Training_ROC_AUC_Score-',model.best_score_)\n",
    "print('Testing_ROC_AUC_Score-',model.score(sent_vectors_test, y_test))\n"
   ]
  },
  {
   "cell_type": "markdown",
   "metadata": {},
   "source": [
    "#### Optimal Value of C is 1\n",
    "\n",
    "#### Testing ROC Score is 92.20%\n",
    "\n",
    "#### Training and Testing ROC Scores are nearly same so, model is doing good job"
   ]
  },
  {
   "cell_type": "code",
   "execution_count": 123,
   "metadata": {},
   "outputs": [
    {
     "name": "stdout",
     "output_type": "stream",
     "text": [
      "Training Accuracy- 91.60142857142857%\n",
      "Testing Accuracy- 90.55333333333333%\n",
      "Training Error- 8.39857142857143%\n",
      "Testing Error- 9.446666666666673%\n"
     ]
    }
   ],
   "source": [
    "classifier=model.best_estimator_\n",
    "classifier.fit(sent_vectors_train,y_train)\n",
    "pred_train=classifier.predict(sent_vectors_train)\n",
    "pred_test=classifier.predict(sent_vectors_test)\n",
    "accuracy_tfidf_train=accuracy_score(y_train,pred_train)*100\n",
    "accuracy_tfidf_test=accuracy_score(y_test,pred_test)*100\n",
    "print(\"Training Accuracy- {}%\".format(accuracy_tfidf_train))\n",
    "print(\"Testing Accuracy- {}%\".format(accuracy_tfidf_test))\n",
    "print(\"Training Error- {}%\".format(100-accuracy_tfidf_train))\n",
    "print(\"Testing Error- {}%\".format(100-accuracy_tfidf_test))\n"
   ]
  },
  {
   "cell_type": "markdown",
   "metadata": {},
   "source": [
    "#### As both Training and Testing Error are low We can say that Our Model is doing Fine \n",
    "\n",
    "#### But we can't rely on simple Accuracy as our data is highly Imabalaced\n",
    "\n",
    "#### Accuracy for Test data is 90.55%"
   ]
  },
  {
   "cell_type": "code",
   "execution_count": 124,
   "metadata": {},
   "outputs": [
    {
     "name": "stdout",
     "output_type": "stream",
     "text": [
      "             precision    recall  f1-score   support\n",
      "\n",
      "          0       0.75      0.46      0.57      4103\n",
      "          1       0.92      0.98      0.95     25897\n",
      "\n",
      "avg / total       0.90      0.91      0.90     30000\n",
      "\n"
     ]
    }
   ],
   "source": [
    "print(classification_report(y_test,pred_test))"
   ]
  },
  {
   "cell_type": "markdown",
   "metadata": {},
   "source": [
    "#### For Negative Reviews Recall is 0.46 or 46% which means out of all Actual Negative Points we are just predicting 46% of negative correctly which is bad while in Positive Reviews we are predicting 98% of Reviews as Positive out of all Actual Positive Reviews\n",
    "\n",
    "#### F1 Score for Negative Review(0) is also low"
   ]
  },
  {
   "cell_type": "markdown",
   "metadata": {},
   "source": [
    "### Confusion Matrix"
   ]
  },
  {
   "cell_type": "code",
   "execution_count": 125,
   "metadata": {},
   "outputs": [
    {
     "data": {
      "image/png": "[encoded data removed]",
      "text/plain": [
       "<Figure size 432x288 with 2 Axes>"
      ]
     },
     "metadata": {},
     "output_type": "display_data"
    }
   ],
   "source": [
    "from sklearn.metrics import confusion_matrix\n",
    "df_cm = pd.DataFrame(confusion_matrix(y_train,pred_train), [\"Negative\", \"Positive\"],[\"Negative\", \"Positive\"],dtype=int)\n",
    "sns.set(font_scale=1.4)\n",
    "sns.heatmap(df_cm, annot=True,annot_kws={\"size\": 16}, fmt='g')\n",
    "plt.title('Confusion Matrix for Training Data ')\n",
    "plt.show()"
   ]
  },
  {
   "cell_type": "code",
   "execution_count": 126,
   "metadata": {},
   "outputs": [
    {
     "data": {
      "image/png": "[encoded data removed]",
      "text/plain": [
       "<Figure size 432x288 with 2 Axes>"
      ]
     },
     "metadata": {},
     "output_type": "display_data"
    }
   ],
   "source": [
    "from sklearn.metrics import confusion_matrix\n",
    "df_cm = pd.DataFrame(confusion_matrix(y_test,pred_test), [\"Negative\", \"Positive\"],[\"Negative\", \"Positive\"],dtype=int)\n",
    "sns.set(font_scale=1.4)\n",
    "sns.heatmap(df_cm, annot=True,annot_kws={\"size\": 16}, fmt='g')\n",
    "plt.title('Confusion Matrix for Testing Data ')\n",
    "plt.show()"
   ]
  },
  {
   "cell_type": "markdown",
   "metadata": {},
   "source": [
    "#### From Confusion Matrix We can see that we are predicting lot of negative reviews as positive 2207 negative reviews are predicted as positive"
   ]
  },
  {
   "cell_type": "code",
   "execution_count": 127,
   "metadata": {},
   "outputs": [
    {
     "name": "stdout",
     "output_type": "stream",
     "text": [
      "TPR-0.9196782763766059\n",
      "FPR-0.24851367419738407\n",
      "TNR-0.751486325802616\n",
      "FNR-0.08032172362339411\n"
     ]
    }
   ],
   "source": [
    "TN,FN,FP,TP = confusion_matrix(y_test, pred_test).ravel()\n",
    "\n",
    "TPR = TP/(FN + TP)\n",
    "\n",
    "FPR = FP/(TN + FP)\n",
    "\n",
    "TNR = TN/(TN + FP)\n",
    "\n",
    "FNR = FN/(FN + TP)\n",
    "\n",
    "print(\"TPR-{}\".format(TPR))\n",
    "print(\"FPR-{}\".format(FPR))\n",
    "print(\"TNR-{}\".format(TNR))\n",
    "print(\"FNR-{}\".format(FNR))"
   ]
  },
  {
   "cell_type": "markdown",
   "metadata": {},
   "source": [
    "### ROC AUC "
   ]
  },
  {
   "cell_type": "code",
   "execution_count": 128,
   "metadata": {},
   "outputs": [
    {
     "data": {
      "image/png": "[encoded data removed]",
      "text/plain": [
       "<Figure size 432x288 with 1 Axes>"
      ]
     },
     "metadata": {},
     "output_type": "display_data"
    }
   ],
   "source": [
    "fpr, tpr,_=roc_curve(pred_train,y_train,drop_intermediate=False)\n",
    "\n",
    "import matplotlib.pyplot as plt\n",
    "plt.figure()\n",
    "\n",
    "plt.plot(fpr, tpr, color='red',\n",
    " lw=2, label='ROC curve')\n",
    "\n",
    "plt.plot([0, 1], [0, 1], color='blue', lw=2, linestyle='--')\n",
    "\n",
    "plt.xlabel('FPR')\n",
    "plt.ylabel('TPR')\n",
    "plt.title('ROC curve for Training Data')\n",
    "plt.show()"
   ]
  },
  {
   "cell_type": "code",
   "execution_count": 129,
   "metadata": {},
   "outputs": [
    {
     "data": {
      "image/png": "[encoded data removed]",
      "text/plain": [
       "<Figure size 432x288 with 1 Axes>"
      ]
     },
     "metadata": {},
     "output_type": "display_data"
    }
   ],
   "source": [
    "fpr, tpr,_=roc_curve(pred_test,y_test,drop_intermediate=False)\n",
    "\n",
    "import matplotlib.pyplot as plt\n",
    "plt.figure()\n",
    "\n",
    "plt.plot(fpr, tpr, color='red',\n",
    " lw=2, label='ROC curve')\n",
    "\n",
    "plt.plot([0, 1], [0, 1], color='blue', lw=2, linestyle='--')\n",
    "\n",
    "plt.xlabel('FPR')\n",
    "plt.ylabel('TPR')\n",
    "plt.title('ROC curve for Testing Data')\n",
    "plt.show()"
   ]
  },
  {
   "cell_type": "markdown",
   "metadata": {},
   "source": [
    "#### As Area under the Red Curve is mostly same for Training and Testing data which says Our model is good"
   ]
  },
  {
   "cell_type": "markdown",
   "metadata": {},
   "source": [
    "# TFIDF Word2Vec Model"
   ]
  },
  {
   "cell_type": "code",
   "execution_count": 130,
   "metadata": {},
   "outputs": [
    {
     "name": "stderr",
     "output_type": "stream",
     "text": [
      "100%|███████████████████████████████████████████████████████████████████████████| 70000/70000 [01:51<00:00, 628.40it/s]\n",
      "100%|███████████████████████████████████████████████████████████████████████████| 30000/30000 [00:49<00:00, 607.73it/s]\n"
     ]
    }
   ],
   "source": [
    "model_text = TfidfVectorizer()\n",
    "tf_idf_matrix_text = model_text.fit_transform(X_train_text.values)\n",
    "\n",
    "dictionary = dict(zip(model_text.get_feature_names(), list(model_text.idf_)))\n",
    "\n",
    "tfidf_feat_text = model_text.get_feature_names() \n",
    "tfidf_sent_vectors_train_text = []\n",
    "for sent in tqdm(list_of_sent_train_text): \n",
    "    sent_vec = np.zeros(50)\n",
    "    weight_sum =0; \n",
    "    for word in sent: \n",
    "        if (word in w2v_words_text):\n",
    "            vec = w2v_model_text.wv[word]\n",
    "            tf_idf = dictionary[word]*(sent.count(word)/len(sent))\n",
    "            sent_vec += (vec * tf_idf)\n",
    "            weight_sum += tf_idf\n",
    "    if weight_sum != 0:\n",
    "        sent_vec /= weight_sum\n",
    "    tfidf_sent_vectors_train_text.append(sent_vec)\n",
    "    \n",
    "tf_idf_matrix_text = model_text.transform(X_test_text.values)\n",
    "\n",
    "dictionary = dict(zip(model_text.get_feature_names(), list(model_text.idf_)))\n",
    "\n",
    "tfidf_feat_text = model_text.get_feature_names() \n",
    "tfidf_sent_vectors_test_text = []\n",
    "for sent in tqdm(list_of_sent_test_text): \n",
    "    sent_vec = np.zeros(50)\n",
    "    weight_sum =0; \n",
    "    for word in sent: \n",
    "        if (word in w2v_words_text):\n",
    "            vec = w2v_model_text.wv[word]\n",
    "            tf_idf = dictionary[word]*(sent.count(word)/len(sent))\n",
    "            sent_vec += (vec * tf_idf)\n",
    "            weight_sum += tf_idf\n",
    "    if weight_sum != 0:\n",
    "        sent_vec /= weight_sum\n",
    "    tfidf_sent_vectors_test_text.append(sent_vec)"
   ]
  },
  {
   "cell_type": "code",
   "execution_count": 131,
   "metadata": {},
   "outputs": [],
   "source": [
    "from sklearn.preprocessing import StandardScaler\n",
    "sc1=StandardScaler(with_mean=False)\n",
    "tfidf_sent_vectors_train_text=sc1.fit_transform(tfidf_sent_vectors_train_text)\n",
    "tfidf_sent_vectors_test_text=sc1.transform(tfidf_sent_vectors_test_text)"
   ]
  },
  {
   "cell_type": "markdown",
   "metadata": {},
   "source": [
    "# Logistic Regression with L2 Regularization"
   ]
  },
  {
   "cell_type": "code",
   "execution_count": 132,
   "metadata": {},
   "outputs": [],
   "source": [
    "tuned_parameters = [{'C': [10**-4, 10**-2, 10**0, 10**2, 10**4]}]"
   ]
  },
  {
   "cell_type": "code",
   "execution_count": 133,
   "metadata": {},
   "outputs": [
    {
     "name": "stdout",
     "output_type": "stream",
     "text": [
      "LogisticRegression(C=0.01, class_weight=None, dual=False, fit_intercept=True,\n",
      "          intercept_scaling=1, max_iter=100, multi_class='ovr', n_jobs=1,\n",
      "          penalty='l2', random_state=None, solver='liblinear', tol=0.0001,\n",
      "          verbose=0, warm_start=False)\n",
      "Training_ROC_AUC_Score- 0.867177010289\n",
      "Testing_ROC_AUC_Score- 0.873654387098\n"
     ]
    }
   ],
   "source": [
    "model = GridSearchCV(LogisticRegression(), tuned_parameters, scoring = 'roc_auc', cv=5)\n",
    "model.fit(tfidf_sent_vectors_train_text, y_train)\n",
    "\n",
    "print(model.best_estimator_)\n",
    "print('Training_ROC_AUC_Score-',model.best_score_)\n",
    "print('Testing_ROC_AUC_Score-',model.score(tfidf_sent_vectors_test_text, y_test))\n"
   ]
  },
  {
   "cell_type": "markdown",
   "metadata": {},
   "source": [
    "#### Optimal value of C is 0.01"
   ]
  },
  {
   "cell_type": "code",
   "execution_count": 141,
   "metadata": {},
   "outputs": [
    {
     "name": "stdout",
     "output_type": "stream",
     "text": [
      "Training Accuracy- 89.75714285714285%\n",
      "Testing Accuracy- 88.29666666666667%\n",
      "Training Error- 10.242857142857147%\n",
      "Testing Error- 11.703333333333333%\n"
     ]
    }
   ],
   "source": [
    "classifier=model.best_estimator_\n",
    "classifier.fit(tfidf_sent_vectors_train_text,y_train)\n",
    "pred_train=classifier.predict(tfidf_sent_vectors_train_text)\n",
    "pred_test=classifier.predict(tfidf_sent_vectors_test_text)\n",
    "accuracy_tfidf_train=accuracy_score(y_train,pred_train)*100\n",
    "accuracy_tfidf_test=accuracy_score(y_test,pred_test)*100\n",
    "print(\"Training Accuracy- {}%\".format(accuracy_tfidf_train))\n",
    "print(\"Testing Accuracy- {}%\".format(accuracy_tfidf_test))\n",
    "print(\"Training Error- {}%\".format(100-accuracy_tfidf_train))\n",
    "print(\"Testing Error- {}%\".format(100-accuracy_tfidf_test))\n"
   ]
  },
  {
   "cell_type": "markdown",
   "metadata": {},
   "source": [
    "#### As both Training and Testing Error are low We can say that Our Model is doing Fine \n",
    "\n",
    "#### But we can't rely on simple Accuracy as our data is highly Imabalaced\n",
    "\n",
    "#### Accuracy for Test data is 88.29%"
   ]
  },
  {
   "cell_type": "code",
   "execution_count": 135,
   "metadata": {},
   "outputs": [
    {
     "name": "stdout",
     "output_type": "stream",
     "text": [
      "             precision    recall  f1-score   support\n",
      "\n",
      "          0       0.69      0.26      0.38      4103\n",
      "          1       0.89      0.98      0.94     25897\n",
      "\n",
      "avg / total       0.87      0.88      0.86     30000\n",
      "\n"
     ]
    }
   ],
   "source": [
    "print(classification_report(y_test,pred_test))"
   ]
  },
  {
   "cell_type": "markdown",
   "metadata": {},
   "source": [
    "#### For Negative Reviews Recall is 0.26 or 26% which means out of all Actual Negative Points we are just predicting 26% of negative correctly which is bad while in Positive Reviews we are predicting 98% of Reviews as Positive out of all Actual Positive Reviews\n",
    "\n",
    "#### F1 Score for Negative Review(0) is also low"
   ]
  },
  {
   "cell_type": "markdown",
   "metadata": {},
   "source": [
    "### Confusion Matrix"
   ]
  },
  {
   "cell_type": "code",
   "execution_count": 136,
   "metadata": {},
   "outputs": [
    {
     "data": {
      "image/png": "[encoded data removed]",
      "text/plain": [
       "<Figure size 432x288 with 2 Axes>"
      ]
     },
     "metadata": {},
     "output_type": "display_data"
    }
   ],
   "source": [
    "from sklearn.metrics import confusion_matrix\n",
    "df_cm = pd.DataFrame(confusion_matrix(y_train,pred_train), [\"Negative\", \"Positive\"],[\"Negative\", \"Positive\"],dtype=int)\n",
    "sns.set(font_scale=1.4)\n",
    "sns.heatmap(df_cm, annot=True,annot_kws={\"size\": 16}, fmt='g')\n",
    "plt.title('Confusion Matrix for Training Data ')\n",
    "plt.show()"
   ]
  },
  {
   "cell_type": "code",
   "execution_count": 137,
   "metadata": {},
   "outputs": [
    {
     "data": {
      "image/png": "[encoded data removed]",
      "text/plain": [
       "<Figure size 432x288 with 2 Axes>"
      ]
     },
     "metadata": {},
     "output_type": "display_data"
    }
   ],
   "source": [
    "from sklearn.metrics import confusion_matrix\n",
    "df_cm = pd.DataFrame(confusion_matrix(y_test,pred_test), [\"Negative\", \"Positive\"],[\"Negative\", \"Positive\"],dtype=int)\n",
    "sns.set(font_scale=1.4)\n",
    "sns.heatmap(df_cm, annot=True,annot_kws={\"size\": 16}, fmt='g')\n",
    "plt.title('Confusion Matrix for Testing Data ')\n",
    "plt.show()"
   ]
  },
  {
   "cell_type": "markdown",
   "metadata": {},
   "source": [
    "#### From Confusion Matrix We can see that we are predicting lot of negative reviews as positive 3045 negative reviews are predicted as positive"
   ]
  },
  {
   "cell_type": "code",
   "execution_count": 138,
   "metadata": {},
   "outputs": [
    {
     "name": "stdout",
     "output_type": "stream",
     "text": [
      "TPR-0.8930678466076696\n",
      "FPR-0.30577427821522307\n",
      "TNR-0.6942257217847769\n",
      "FNR-0.10693215339233038\n"
     ]
    }
   ],
   "source": [
    "TN,FN,FP,TP = confusion_matrix(y_test, pred_test).ravel()\n",
    "\n",
    "TPR = TP/(FN + TP)\n",
    "\n",
    "FPR = FP/(TN + FP)\n",
    "\n",
    "TNR = TN/(TN + FP)\n",
    "\n",
    "FNR = FN/(FN + TP)\n",
    "\n",
    "print(\"TPR-{}\".format(TPR))\n",
    "print(\"FPR-{}\".format(FPR))\n",
    "print(\"TNR-{}\".format(TNR))\n",
    "print(\"FNR-{}\".format(FNR))"
   ]
  },
  {
   "cell_type": "markdown",
   "metadata": {},
   "source": [
    "### ROC AUC "
   ]
  },
  {
   "cell_type": "code",
   "execution_count": 139,
   "metadata": {},
   "outputs": [
    {
     "data": {
      "image/png": "[encoded data removed]",
      "text/plain": [
       "<Figure size 432x288 with 1 Axes>"
      ]
     },
     "metadata": {},
     "output_type": "display_data"
    }
   ],
   "source": [
    "fpr, tpr,_=roc_curve(pred_train,y_train,drop_intermediate=False)\n",
    "\n",
    "import matplotlib.pyplot as plt\n",
    "plt.figure()\n",
    "\n",
    "plt.plot(fpr, tpr, color='red',\n",
    " lw=2, label='ROC curve')\n",
    "\n",
    "plt.plot([0, 1], [0, 1], color='blue', lw=2, linestyle='--')\n",
    "\n",
    "plt.xlabel('FPR')\n",
    "plt.ylabel('TPR')\n",
    "plt.title('ROC curve for Training Data')\n",
    "plt.show()"
   ]
  },
  {
   "cell_type": "code",
   "execution_count": 140,
   "metadata": {},
   "outputs": [
    {
     "data": {
      "image/png": "[encoded data removed]",
      "text/plain": [
       "<Figure size 432x288 with 1 Axes>"
      ]
     },
     "metadata": {},
     "output_type": "display_data"
    }
   ],
   "source": [
    "fpr, tpr,_=roc_curve(pred_test,y_test,drop_intermediate=False)\n",
    "\n",
    "import matplotlib.pyplot as plt\n",
    "plt.figure()\n",
    "\n",
    "plt.plot(fpr, tpr, color='red',\n",
    " lw=2, label='ROC curve')\n",
    "\n",
    "plt.plot([0, 1], [0, 1], color='blue', lw=2, linestyle='--')\n",
    "\n",
    "plt.xlabel('FPR')\n",
    "plt.ylabel('TPR')\n",
    "plt.title('ROC curve for Testing Data')\n",
    "plt.show()"
   ]
  },
  {
   "cell_type": "markdown",
   "metadata": {},
   "source": [
    "# Conclusions"
   ]
  },
  {
   "cell_type": "markdown",
   "metadata": {},
   "source": [
    "* From Above Analysis we can say BOW model is best for Amazaon Food Review data set \n",
    "* Accuracy can't be the best measure for this dataset as it is highly imabalanced\n",
    "* As TFIDF model have best ROC_AUC score but its Recall for Negative Reviews is very less as compared to BOW Model\n",
    "* BOW Model is Predicting less False Positives with respect to all other Models\n",
    "* We Choose 29% Weight Difference Percentage as Thresold for getting Multicollinear Features\n",
    "* Sparcity Decreases as we Increase Value of C"
   ]
  },
  {
   "cell_type": "code",
   "execution_count": null,
   "metadata": {},
   "outputs": [],
   "source": []
  }
 ],
 "metadata": {
  "kernelspec": {
   "display_name": "Python 3",
   "language": "python",
   "name": "python3"
  },
  "language_info": {
   "codemirror_mode": {
    "name": "ipython",
    "version": 3
   },
   "file_extension": ".py",
   "mimetype": "text/x-python",
   "name": "python",
   "nbconvert_exporter": "python",
   "pygments_lexer": "ipython3",
   "version": "3.6.2"
  }
 },
 "nbformat": 4,
 "nbformat_minor": 2
}
